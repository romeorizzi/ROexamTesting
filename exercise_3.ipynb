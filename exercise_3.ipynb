{
 "cells": [
  {
   "cell_type": "code",
   "execution_count": 1,
   "metadata": {
    "hide_input": true,
    "init_cell": true,
    "scrolled": false
   },
   "outputs": [],
   "source": [
    "from IPython.core.display import display, HTML, Markdown, display_html, clear_output, Javascript\n",
    "from ipywidgets import Button, HBox, VBox, widgets\n",
    "from string import Template\n",
    "import ipysheet\n",
    "import pandas as pd\n",
    "import json, random\n",
    "import yaml\n",
    "import math\n",
    "import time\n",
    "import re\n",
    "import os\n",
    "from os import path\n",
    "\n",
    "#verificatori\n",
    "from exercise_3.verifier.lds import lds\n",
    "from exercise_3.verifier.zSeq import zSequenza\n",
    "from exercise_3.verifier.ldsWithNumber import ldsWithNumber\n",
    "from exercise_3.verifier.ldscutrange import ldsSubwithoutElementInRange\n",
    "from exercise_3.verifier.minNsubCre import minimoNumSubCRE\n",
    "from exercise_3.verifier.final_results import save_results"
   ]
  },
  {
   "cell_type": "code",
   "execution_count": 2,
   "metadata": {
    "hide_input": true,
    "init_cell": true
   },
   "outputs": [
    {
     "data": {
      "application/vnd.jupyter.widget-view+json": {
       "model_id": "813a6bac93c24ebda6c7852f039c7e7c",
       "version_major": 2,
       "version_minor": 0
      },
      "text/plain": [
       "Button(description='Run', style=ButtonStyle())"
      ]
     },
     "metadata": {},
     "output_type": "display_data"
    },
    {
     "data": {
      "application/vnd.jupyter.widget-view+json": {
       "model_id": "fbab7882b8474df683acd39eafffedda",
       "version_major": 2,
       "version_minor": 0
      },
      "text/plain": [
       "Output()"
      ]
     },
     "metadata": {},
     "output_type": "display_data"
    }
   ],
   "source": [
    "button_run = widgets.Button(description=\"Run\")\n",
    "output_run = widgets.Output()\n",
    "display(button_run, output_run)\n",
    "\n",
    "def on_run_clicked1(b):\n",
    "    with output_run:\n",
    "        display(Javascript('''\n",
    "        function sleep2(milliseconds) {\n",
    "          var start = new Date().getTime();\n",
    "          for (var i = 0; i < 1e7; i++) {\n",
    "            if ((new Date().getTime() - start) > milliseconds){\n",
    "              break;\n",
    "            }\n",
    "          }\n",
    "        }\n",
    "        var k = 3\n",
    "        //IPython.notebook.execute_cells([0])\n",
    "        try{\n",
    "            while(k < 50){\n",
    "                IPython.notebook.execute_cells([k])\n",
    "                k = k+1\n",
    "                sleep2(50)\n",
    "            }\n",
    "        }catch{}\n",
    "        '''))\n",
    "button_run.on_click(on_run_clicked1)"
   ]
  },
  {
   "cell_type": "code",
   "execution_count": 3,
   "metadata": {
    "hide_input": true,
    "init_cell": true
   },
   "outputs": [
    {
     "data": {
      "application/javascript": [
       "var kernel = IPython.notebook.kernel;\n",
       "var thename = window.document.getElementById(\"notebook_name\").innerHTML;\n",
       "var command = \"theNotebook = \" + \"'\"+thename+\"'\";\n",
       "kernel.execute(command);\n"
      ],
      "text/plain": [
       "<IPython.core.display.Javascript object>"
      ]
     },
     "metadata": {},
     "output_type": "display_data"
    }
   ],
   "source": [
    "%%javascript\n",
    "var kernel = IPython.notebook.kernel;\n",
    "var thename = window.document.getElementById(\"notebook_name\").innerHTML;\n",
    "var command = \"theNotebook = \" + \"'\"+thename+\"'\";\n",
    "kernel.execute(command);"
   ]
  },
  {
   "cell_type": "code",
   "execution_count": 40,
   "metadata": {
    "hide_input": true,
    "scrolled": true
   },
   "outputs": [
    {
     "data": {
      "text/markdown": [
       "# EXERCISE 3\n",
       "Si consideri la seguente sequenza di numeri naturali"
      ],
      "text/plain": [
       "<IPython.core.display.Markdown object>"
      ]
     },
     "execution_count": 40,
     "metadata": {},
     "output_type": "execute_result"
    }
   ],
   "source": [
    "str_list = theNotebook.split(\"_\")\n",
    "exercise = str_list[1]\n",
    "%run -i \"exercise_3/script/load_config.py\"\n",
    "txt = open(yaml_text[0], 'r',encoding='utf-8')\n",
    "content = txt.read()\n",
    "text_str = \"# \"+ str_list[0].upper() + \" \" + str_list[1] + \"\\n\" + content\n",
    "Markdown(text_str)\n",
    "\n",
    "#txt = open(yaml_text[0], 'r',encoding='utf-8')\n",
    "#content = txt.read()\n",
    "#Markdown(content)\n",
    "\n",
    "\n",
    "\n"
   ]
  },
  {
   "cell_type": "code",
   "execution_count": 41,
   "metadata": {
    "hide_input": true,
    "scrolled": true
   },
   "outputs": [
    {
     "data": {
      "text/html": [
       "<table border=\"1\" class=\"dataframe\">\n",
       "  <thead>\n",
       "    <tr style=\"text-align: right;\">\n",
       "      <th>1</th>\n",
       "      <th>2</th>\n",
       "      <th>3</th>\n",
       "      <th>4</th>\n",
       "      <th>5</th>\n",
       "      <th>6</th>\n",
       "      <th>7</th>\n",
       "      <th>8</th>\n",
       "      <th>9</th>\n",
       "      <th>10</th>\n",
       "      <th>11</th>\n",
       "      <th>12</th>\n",
       "      <th>13</th>\n",
       "      <th>14</th>\n",
       "      <th>15</th>\n",
       "      <th>16</th>\n",
       "      <th>17</th>\n",
       "      <th>18</th>\n",
       "      <th>19</th>\n",
       "      <th>20</th>\n",
       "      <th>21</th>\n",
       "      <th>22</th>\n",
       "      <th>23</th>\n",
       "      <th>24</th>\n",
       "      <th>25</th>\n",
       "      <th>26</th>\n",
       "      <th>27</th>\n",
       "    </tr>\n",
       "  </thead>\n",
       "  <tbody>\n",
       "    <tr>\n",
       "      <td>9</td>\n",
       "      <td>65</td>\n",
       "      <td>57</td>\n",
       "      <td>55</td>\n",
       "      <td>50</td>\n",
       "      <td>58</td>\n",
       "      <td>47</td>\n",
       "      <td>36</td>\n",
       "      <td>30</td>\n",
       "      <td>59</td>\n",
       "      <td>39</td>\n",
       "      <td>13</td>\n",
       "      <td>54</td>\n",
       "      <td>33</td>\n",
       "      <td>45</td>\n",
       "      <td>20</td>\n",
       "      <td>18</td>\n",
       "      <td>56</td>\n",
       "      <td>53</td>\n",
       "      <td>61</td>\n",
       "      <td>38</td>\n",
       "      <td>19</td>\n",
       "      <td>51</td>\n",
       "      <td>35</td>\n",
       "      <td>26</td>\n",
       "      <td>52</td>\n",
       "      <td>70</td>\n",
       "    </tr>\n",
       "  </tbody>\n",
       "</table>"
      ]
     },
     "metadata": {},
     "output_type": "display_data"
    }
   ],
   "source": [
    "file = open(yaml_table_path, 'r',encoding='utf-8')\n",
    "    \n",
    "data = []\n",
    "\n",
    "for line in file.readlines():\n",
    "    data.append(line.split(' '))\n",
    "\n",
    "df = pd.DataFrame(data=data)\n",
    "df.columns = [i for  i in range(1, len(data[0])+1)]\n",
    "\n",
    "display_html(df.to_html(index=False), raw=True)              "
   ]
  },
  {
   "cell_type": "code",
   "execution_count": 42,
   "metadata": {
    "hide_input": true,
    "scrolled": false
   },
   "outputs": [
    {
     "name": "stdout",
     "output_type": "stream",
     "text": [
      "Qui puoi compilare la tabella di supporto\n"
     ]
    },
    {
     "data": {
      "application/vnd.jupyter.widget-view+json": {
       "model_id": "5ad2cc8d7d704054a8340c91325048a7",
       "version_major": 2,
       "version_minor": 0
      },
      "text/plain": [
       "Sheet(cells=(Cell(column_end=0, column_start=0, read_only=True, row_end=0, row_start=0, type='text', value='--…"
      ]
     },
     "metadata": {},
     "output_type": "display_data"
    }
   ],
   "source": [
    "print(\"Qui puoi compilare la tabella di supporto\")\n",
    "\n",
    "if path.exists(\"./exercise_3/data/tmp/tablesupp.txt\"):\n",
    "    f = open(\"./exercise_3/data/tmp/tablesupp.txt\", \"r\")\n",
    "    lines = f.readlines()\n",
    "    num=[]\n",
    "    for line in lines:\n",
    "        num.append([int(s) for s in re.findall(r'\\b\\d+\\b', line)])\n",
    "    sheet1=ipysheet.sheet(rows=5,columns=len(df.columns),column_headers=False, row_headers=False)\n",
    "    values=df.values.tolist()\n",
    "    for i in range(0,len(df.columns)):\n",
    "        ipysheet.cell(0,i,\"-->\",read_only=True)\n",
    "        ipysheet.cell(1,i,str(num[0][i]))\n",
    "        ipysheet.cell(2,i,values[0][i],read_only=True)\n",
    "        ipysheet.cell(3,i,str(num[1][i]))\n",
    "        ipysheet.cell(4,i,\"<--\",read_only=True)\n",
    "    \n",
    "else:\n",
    "    sheet1=ipysheet.sheet(rows=5,columns=len(df.columns),column_headers=False, row_headers=False)\n",
    "    values=df.values.tolist()\n",
    "    for i in range(0,len(df.columns)):\n",
    "        ipysheet.cell(0,i,\"-->\",read_only=True)\n",
    "        ipysheet.cell(1,i,\"0\")\n",
    "        ipysheet.cell(2,i,values[0][i],read_only=True)\n",
    "        ipysheet.cell(3,i,\"0\")\n",
    "        ipysheet.cell(4,i,\"<--\",read_only=True)\n",
    "\n",
    "sheet1"
   ]
  },
  {
   "cell_type": "code",
   "execution_count": 43,
   "metadata": {
    "hide_input": true,
    "scrolled": true
   },
   "outputs": [
    {
     "data": {
      "application/vnd.jupyter.widget-view+json": {
       "model_id": "52c461e3800d42359fde9a5ac8748b52",
       "version_major": 2,
       "version_minor": 0
      },
      "text/plain": [
       "HBox(children=(VBox(children=(Button(description='Reset Tabella', style=ButtonStyle()),)), VBox(children=(Butt…"
      ]
     },
     "metadata": {},
     "output_type": "display_data"
    }
   ],
   "source": [
    "words = ['Reset Tabella', 'Salva Tabella']\n",
    "items = [Button(description=w) for w in words]\n",
    "left_box = VBox([items[0]])\n",
    "right_box = VBox([items[1]])\n",
    "\n",
    "def reset0(_):\n",
    "    if path.exists(\"./exercise_3/data/tmp/tablesupp.txt\"):\n",
    "        os.remove(\"./exercise_3/data/tmp/tablesupp.txt\")\n",
    "    display(Javascript('IPython.notebook.execute_cells([5])'))\n",
    "\n",
    "def save0(_):\n",
    "    f = open(\"./exercise_3/data/tmp/tablesupp.txt\", \"w\")\n",
    "    f.write(str(list(map(int,ipysheet.to_array(sheet1)[1])))+\"\\n\")\n",
    "    f.write(str(list(map(int,ipysheet.to_array(sheet1)[3]))))\n",
    "    f.close()\n",
    "    print(\"Tabella salvata\")\n",
    "    time.sleep(3)\n",
    "    display(Javascript('IPython.notebook.execute_cells([6])'))\n",
    "        \n",
    "items[0].on_click(reset0)\n",
    "items[1].on_click(save0)\n",
    "\n",
    "HBox([left_box, right_box])\n"
   ]
  },
  {
   "cell_type": "code",
   "execution_count": 44,
   "metadata": {
    "hide_input": true,
    "pycharm": {
     "name": "#%%\n"
    }
   },
   "outputs": [
    {
     "data": {
      "text/markdown": [
       "- Trovare una sottosequenza decrescente che sia la più lunga possibile. \\\n",
       "Specificare quanto è lunga e fornirla.\n",
       "\n"
      ],
      "text/plain": [
       "<IPython.core.display.Markdown object>"
      ]
     },
     "execution_count": 44,
     "metadata": {},
     "output_type": "execute_result"
    }
   ],
   "source": [
    "txt = open(yaml_text[1], 'r',encoding='utf-8')\n",
    "content = txt.read()\n",
    "Markdown(content)"
   ]
  },
  {
   "cell_type": "code",
   "execution_count": 45,
   "metadata": {
    "hide_input": true
   },
   "outputs": [
    {
     "name": "stdout",
     "output_type": "stream",
     "text": [
      "Lunghezza della sottosequenza decrescente più lunga:\n"
     ]
    },
    {
     "data": {
      "application/vnd.jupyter.widget-view+json": {
       "model_id": "293077ec4cd54fbdb3acf6cd3ab0c2f1",
       "version_major": 2,
       "version_minor": 0
      },
      "text/plain": [
       "IntText(value=1)"
      ]
     },
     "metadata": {},
     "output_type": "display_data"
    }
   ],
   "source": [
    "print(\"Lunghezza della sottosequenza decrescente più lunga:\")\n",
    "maxsubseq=widgets.IntText(\n",
    "    value=1,\n",
    "    disabled=False\n",
    ")\n",
    "display(maxsubseq)\n",
    "\n",
    "#9"
   ]
  },
  {
   "cell_type": "code",
   "execution_count": 46,
   "metadata": {
    "hide_input": true,
    "scrolled": true
   },
   "outputs": [
    {
     "data": {
      "application/vnd.jupyter.widget-view+json": {
       "model_id": "1b23b1f7df3e4f7388d080c96c5e067e",
       "version_major": 2,
       "version_minor": 0
      },
      "text/plain": [
       "VBox(children=(Button(description='Crea tabella', style=ButtonStyle()), Output()))"
      ]
     },
     "metadata": {},
     "output_type": "display_data"
    }
   ],
   "source": [
    "button0 = widgets.Button(description='Crea tabella')\n",
    "out = widgets.Output()\n",
    "def on_button_clicked0(_):\n",
    "      # \"linking function with output\"\n",
    "      with out:\n",
    "        display(Javascript('IPython.notebook.execute_cells([10])'))\n",
    "          # what happens when we press the button\n",
    "          #result1 = p_1(graph1)\n",
    "          #clear_output()\n",
    "          #print(result1)\n",
    "button0.on_click(on_button_clicked0)\n",
    "# displaying button and its output together\n",
    "widgets.VBox([button0,out])"
   ]
  },
  {
   "cell_type": "code",
   "execution_count": 77,
   "metadata": {
    "hide_input": false,
    "scrolled": true
   },
   "outputs": [
    {
     "data": {
      "application/vnd.jupyter.widget-view+json": {
       "model_id": "968d08c5425946d1b310b8b99e989160",
       "version_major": 2,
       "version_minor": 0
      },
      "text/plain": [
       "Sheet(cells=(Cell(column_end=0, column_start=0, row_end=0, row_start=0, type='text', value='0'), Cell(column_e…"
      ]
     },
     "metadata": {},
     "output_type": "display_data"
    }
   ],
   "source": [
    "if path.exists(\"./exercise_3/data/tmp/es1.txt\"):\n",
    "    f = open(\"./exercise_3/data/tmp/es1.txt\", \"r\")\n",
    "    line = f.readline()\n",
    "    num=[int(s) for s in re.findall(r'\\b\\d+\\b', line)]\n",
    "    lunghezza=len(num)\n",
    "    sheet2=ipysheet.sheet(rows=1,columns=lunghezza,column_headers=False, row_headers=False)\n",
    "    for i in range(0,lunghezza):\n",
    "        ipysheet.cell(0,i,str(num[i]))\n",
    "else:\n",
    "    lunghezza=int(maxsubseq.value)\n",
    "    sheet2=ipysheet.sheet(rows=1,columns=lunghezza,column_headers=False, row_headers=False)\n",
    "    for i in range(0,lunghezza):\n",
    "        ipysheet.cell(0,i,\"0\")\n",
    "\n",
    "sheet2\n",
    "#65, 57, 55, 50, 47, 36, 30, 20, 18"
   ]
  },
  {
   "cell_type": "code",
   "execution_count": 82,
   "metadata": {
    "hide_input": true,
    "scrolled": true
   },
   "outputs": [
    {
     "data": {
      "application/javascript": [
       "IPython.notebook.execute_cells([11])"
      ],
      "text/plain": [
       "<IPython.core.display.Javascript object>"
      ]
     },
     "metadata": {},
     "output_type": "display_data"
    },
    {
     "data": {
      "application/vnd.jupyter.widget-view+json": {
       "model_id": "c72574039da94bb48669b5cb9735ca0f",
       "version_major": 2,
       "version_minor": 0
      },
      "text/plain": [
       "HBox(children=(VBox(children=(Button(description='Reset Tabella', style=ButtonStyle()),)), VBox(children=(Butt…"
      ]
     },
     "metadata": {},
     "output_type": "display_data"
    }
   ],
   "source": [
    "words = ['Reset Tabella', 'Submit']\n",
    "items = [Button(description=w) for w in words]\n",
    "left_box = VBox([items[0]])\n",
    "right_box = VBox([items[1]])\n",
    "\n",
    "def reset1(_):\n",
    "    if path.exists(\"./exercise_3/data/tmp/es1.txt\"):\n",
    "        os.remove(\"./exercise_3/data/tmp/es1.txt\")\n",
    "    display(Javascript('IPython.notebook.execute_cells([10])'))\n",
    "\n",
    "def verify1(_):\n",
    "    f = open(\"./exercise_3/data/tmp/es1.txt\", \"w\")\n",
    "    f.write(str(list(map(int,ipysheet.to_array(sheet2)[0]))))\n",
    "    f.close()\n",
    "    lds(values[0], list(ipysheet.to_array(sheet2)[0]), lunghezza)\n",
    "    time.sleep(5)\n",
    "    display(Javascript('IPython.notebook.execute_cells([11])'))\n",
    "    \n",
    "        \n",
    "items[0].on_click(reset1)\n",
    "items[1].on_click(verify1)\n",
    "\n",
    "HBox([left_box, right_box])\n"
   ]
  },
  {
   "cell_type": "code",
   "execution_count": 49,
   "metadata": {
    "hide_input": true,
    "pycharm": {
     "name": "#%%\n"
    }
   },
   "outputs": [
    {
     "data": {
      "text/markdown": [
       "- Una sequenza è detta una Z-sequenza, o sequenza decrescente con un possibile ripensamento, se esiste un indice i tale cha ciascuno degli elementi della sequenza esclusi al più il primo e l’i-esimo sono strettamente minori dell’elemento che immediatamente li precede nella sequenza. \\\n",
       "Trovare la più lunga Z-sequenza che sia una sottosequenza della sequenza data. \\\n",
       "Specificare quanto è lunga e fornirla."
      ],
      "text/plain": [
       "<IPython.core.display.Markdown object>"
      ]
     },
     "execution_count": 49,
     "metadata": {},
     "output_type": "execute_result"
    }
   ],
   "source": [
    "txt = open(yaml_text[2], 'r',encoding='utf-8')\n",
    "content = txt.read()\n",
    "Markdown(content)"
   ]
  },
  {
   "cell_type": "code",
   "execution_count": 50,
   "metadata": {
    "hide_input": true,
    "scrolled": true
   },
   "outputs": [
    {
     "name": "stdout",
     "output_type": "stream",
     "text": [
      "Lunghezza della sottosequenza decrescente più lunga:\n"
     ]
    },
    {
     "data": {
      "application/vnd.jupyter.widget-view+json": {
       "model_id": "0a7c7fe631644d3eb317cb92c9fae78f",
       "version_major": 2,
       "version_minor": 0
      },
      "text/plain": [
       "IntText(value=1)"
      ]
     },
     "metadata": {},
     "output_type": "display_data"
    }
   ],
   "source": [
    "print(\"Lunghezza della sottosequenza decrescente più lunga:\")\n",
    "nseqlen=widgets.IntText(\n",
    "    value=1,\n",
    "    disabled=False\n",
    ")\n",
    "display(nseqlen)\n",
    "\n",
    "#14"
   ]
  },
  {
   "cell_type": "code",
   "execution_count": 51,
   "metadata": {
    "hide_input": true
   },
   "outputs": [
    {
     "data": {
      "application/vnd.jupyter.widget-view+json": {
       "model_id": "fa7103e5dd1241d08321c351c59aaa3b",
       "version_major": 2,
       "version_minor": 0
      },
      "text/plain": [
       "VBox(children=(Button(description='Crea tabella', style=ButtonStyle()), Output()))"
      ]
     },
     "metadata": {},
     "output_type": "display_data"
    }
   ],
   "source": [
    "button1 = widgets.Button(description='Crea tabella')\n",
    "out = widgets.Output()\n",
    "def on_button_clicked1(_):\n",
    "      # \"linking function with output\"\n",
    "      with out:\n",
    "        display(Javascript('IPython.notebook.execute_cells([15])'))\n",
    "          # what happens when we press the button\n",
    "          #result1 = p_1(graph1)\n",
    "          #clear_output()\n",
    "          #print(result1)\n",
    "button1.on_click(on_button_clicked1)\n",
    "# displaying button and its output together\n",
    "widgets.VBox([button1,out])"
   ]
  },
  {
   "cell_type": "code",
   "execution_count": 84,
   "metadata": {
    "hide_input": false,
    "scrolled": true
   },
   "outputs": [
    {
     "data": {
      "application/vnd.jupyter.widget-view+json": {
       "model_id": "bfa69c2841f147c0a34041595d444f60",
       "version_major": 2,
       "version_minor": 0
      },
      "text/plain": [
       "Sheet(cells=(Cell(column_end=0, column_start=0, row_end=0, row_start=0, type='text', value='0'), Cell(column_e…"
      ]
     },
     "metadata": {},
     "output_type": "display_data"
    }
   ],
   "source": [
    "if path.exists(\"./exercise_3/data/tmp/es2.txt\"):\n",
    "    f = open(\"./exercise_3/data/tmp/es2.txt\", \"r\")\n",
    "    line = f.readline()\n",
    "    num=[int(s) for s in re.findall(r'\\b\\d+\\b', line)]\n",
    "    lunghezza2=len(num)\n",
    "    sheet3=ipysheet.sheet(rows=1,columns=lunghezza2,column_headers=False, row_headers=False)\n",
    "    for i in range(0,lunghezza2):\n",
    "        ipysheet.cell(0,i,str(num[i]))\n",
    "else:\n",
    "    lunghezza2=int(nseqlen.value)\n",
    "    sheet3=ipysheet.sheet(rows=1,columns=lunghezza2,column_headers=False, row_headers=False)\n",
    "    for i in range(0,lunghezza2):\n",
    "        ipysheet.cell(0,i,\"0\")\n",
    "\n",
    "sheet3\n",
    "#65, 57, 55, 50, 47, 36, 30, 20, 18, 56, 53, 38, 35, 26"
   ]
  },
  {
   "cell_type": "code",
   "execution_count": 89,
   "metadata": {
    "hide_input": true
   },
   "outputs": [
    {
     "data": {
      "application/javascript": [
       "IPython.notebook.execute_cells([16])"
      ],
      "text/plain": [
       "<IPython.core.display.Javascript object>"
      ]
     },
     "metadata": {},
     "output_type": "display_data"
    },
    {
     "data": {
      "application/vnd.jupyter.widget-view+json": {
       "model_id": "c26a3d58270a4bbb80162328181eb1b6",
       "version_major": 2,
       "version_minor": 0
      },
      "text/plain": [
       "HBox(children=(VBox(children=(Button(description='Reset Tabella', style=ButtonStyle()),)), VBox(children=(Butt…"
      ]
     },
     "metadata": {},
     "output_type": "display_data"
    }
   ],
   "source": [
    "words = ['Reset Tabella', 'Submit']\n",
    "items = [Button(description=w) for w in words]\n",
    "left_box = VBox([items[0]])\n",
    "right_box = VBox([items[1]])\n",
    "\n",
    "def reset2(_):\n",
    "    if path.exists(\"./exercise_3/data/tmp/es2.txt\"):\n",
    "        os.remove(\"./exercise_3/data/tmp/es2.txt\")\n",
    "    display(Javascript('IPython.notebook.execute_cells([15])'))\n",
    "\n",
    "\n",
    "def verify2(_):\n",
    "    f = open(\"./exercise_3/data/tmp/es2.txt\", \"w\")\n",
    "    f.write(str(list(map(int,ipysheet.to_array(sheet3)[0]))))\n",
    "    f.close()\n",
    "    zSequenza(values[0], list(ipysheet.to_array(sheet3)[0]), lunghezza2)\n",
    "    time.sleep(5)\n",
    "    display(Javascript('IPython.notebook.execute_cells([16])'))\n",
    "    \n",
    "        \n",
    "items[0].on_click(reset2)\n",
    "items[1].on_click(verify2)\n",
    "\n",
    "HBox([left_box, right_box])\n"
   ]
  },
  {
   "cell_type": "code",
   "execution_count": 54,
   "metadata": {
    "hide_input": true,
    "pycharm": {
     "name": "#%%\n"
    }
   },
   "outputs": [
    {
     "data": {
      "text/markdown": [
       "- Trovare la più lunga sottosequenza decrescente che includa l’elemento di valore 59.\\\n",
       "Specificare quanto è lunga e fornirla."
      ],
      "text/plain": [
       "<IPython.core.display.Markdown object>"
      ]
     },
     "execution_count": 54,
     "metadata": {},
     "output_type": "execute_result"
    }
   ],
   "source": [
    "txt = open(yaml_text[3], 'r',encoding='utf-8')\n",
    "content = txt.read()\n",
    "Markdown(content)"
   ]
  },
  {
   "cell_type": "code",
   "execution_count": 55,
   "metadata": {
    "hide_input": true,
    "scrolled": true
   },
   "outputs": [
    {
     "name": "stdout",
     "output_type": "stream",
     "text": [
      "Lunghezza della sottosequenza decrescente più lunga:\n"
     ]
    },
    {
     "data": {
      "application/vnd.jupyter.widget-view+json": {
       "model_id": "ea40bb8c15b7459da6d9377c086371c6",
       "version_major": 2,
       "version_minor": 0
      },
      "text/plain": [
       "IntText(value=1)"
      ]
     },
     "metadata": {},
     "output_type": "display_data"
    }
   ],
   "source": [
    "print(\"Lunghezza della sottosequenza decrescente più lunga:\")\n",
    "maxsubseq2=widgets.IntText(\n",
    "    value=1,\n",
    "    disabled=False\n",
    ")\n",
    "display(maxsubseq2)\n",
    "#7"
   ]
  },
  {
   "cell_type": "code",
   "execution_count": 56,
   "metadata": {
    "hide_input": true
   },
   "outputs": [
    {
     "data": {
      "application/vnd.jupyter.widget-view+json": {
       "model_id": "155e08f194954ac588c6479b3b9ecf3a",
       "version_major": 2,
       "version_minor": 0
      },
      "text/plain": [
       "VBox(children=(Button(description='Crea tabella', style=ButtonStyle()), Output()))"
      ]
     },
     "metadata": {},
     "output_type": "display_data"
    }
   ],
   "source": [
    "button2 = widgets.Button(description='Crea tabella')\n",
    "out = widgets.Output()\n",
    "def on_button_clicked2(_):\n",
    "      # \"linking function with output\"\n",
    "      with out:\n",
    "        display(Javascript('IPython.notebook.execute_cells([20])'))\n",
    "          # what happens when we press the button\n",
    "          #result1 = p_1(graph1)\n",
    "          #clear_output()\n",
    "          #print(result1)\n",
    "button2.on_click(on_button_clicked2)\n",
    "# displaying button and its output together\n",
    "widgets.VBox([button2,out])"
   ]
  },
  {
   "cell_type": "code",
   "execution_count": 91,
   "metadata": {
    "hide_input": false
   },
   "outputs": [
    {
     "data": {
      "application/vnd.jupyter.widget-view+json": {
       "model_id": "bc84ebee1eb3458db56b20f2aecf4d8a",
       "version_major": 2,
       "version_minor": 0
      },
      "text/plain": [
       "Sheet(cells=(Cell(column_end=0, column_start=0, row_end=0, row_start=0, type='text', value='0'), Cell(column_e…"
      ]
     },
     "metadata": {},
     "output_type": "display_data"
    }
   ],
   "source": [
    "if path.exists(\"./exercise_3/data/tmp/es3.txt\"):\n",
    "    f = open(\"./exercise_3/data/tmp/es3.txt\", \"r\")\n",
    "    line = f.readline()\n",
    "    num=[int(s) for s in re.findall(r'\\b\\d+\\b', line)]\n",
    "    lunghezza3=len(num)\n",
    "    sheet4=ipysheet.sheet(rows=1,columns=lunghezza3,column_headers=False, row_headers=False)\n",
    "    for i in range(0,lunghezza3):\n",
    "        ipysheet.cell(0,i,str(num[i]))\n",
    "else:\n",
    "    lunghezza3=int(maxsubseq2.value)\n",
    "    sheet4=ipysheet.sheet(rows=1,columns=lunghezza3,column_headers=False, row_headers=False)\n",
    "    for i in range(0,lunghezza3):\n",
    "        ipysheet.cell(0,i,\"0\")\n",
    "\n",
    "sheet4\n",
    "\n",
    "#65, 59, 54, 45, 38, 35, 26"
   ]
  },
  {
   "cell_type": "code",
   "execution_count": 96,
   "metadata": {
    "hide_input": true,
    "scrolled": true
   },
   "outputs": [
    {
     "data": {
      "application/javascript": [
       "IPython.notebook.execute_cells([21])"
      ],
      "text/plain": [
       "<IPython.core.display.Javascript object>"
      ]
     },
     "metadata": {},
     "output_type": "display_data"
    },
    {
     "data": {
      "application/vnd.jupyter.widget-view+json": {
       "model_id": "eed8ccf943c14676badbd470715abbef",
       "version_major": 2,
       "version_minor": 0
      },
      "text/plain": [
       "HBox(children=(VBox(children=(Button(description='Reset Tabella', style=ButtonStyle()),)), VBox(children=(Butt…"
      ]
     },
     "metadata": {},
     "output_type": "display_data"
    }
   ],
   "source": [
    "words = ['Reset Tabella', 'Submit']\n",
    "items = [Button(description=w) for w in words]\n",
    "left_box = VBox([items[0]])\n",
    "right_box = VBox([items[1]])\n",
    "\n",
    "def reset3(_):\n",
    "    if path.exists(\"./exercise_3/data/tmp/es3.txt\"):\n",
    "        os.remove(\"./exercise_3/data/tmp/es3.txt\")\n",
    "    display(Javascript('IPython.notebook.execute_cells([20])'))\n",
    "\n",
    "def verify3(_):\n",
    "    f = open(\"./exercise_3/data/tmp/es3.txt\", \"w\")\n",
    "    f.write(str(list(map(int,ipysheet.to_array(sheet4)[0]))))\n",
    "    f.close()\n",
    "    ldsWithNumber(values[0], list(ipysheet.to_array(sheet4)[0]), lunghezza3, 59)\n",
    "    time.sleep(5)\n",
    "    display(Javascript('IPython.notebook.execute_cells([21])'))\n",
    "    \n",
    "        \n",
    "items[0].on_click(reset3)\n",
    "items[1].on_click(verify3)\n",
    "\n",
    "HBox([left_box, right_box])"
   ]
  },
  {
   "cell_type": "code",
   "execution_count": 59,
   "metadata": {
    "hide_input": true,
    "pycharm": {
     "name": "#%%\n"
    }
   },
   "outputs": [
    {
     "data": {
      "text/markdown": [
       "- Trovare una sottosequenza decrescente che sia la più lunga possibile ma eviti di utilizzare i primi 4 elementi. \\\n",
       "Specificare quanto è lunga e fornirla.\n"
      ],
      "text/plain": [
       "<IPython.core.display.Markdown object>"
      ]
     },
     "execution_count": 59,
     "metadata": {},
     "output_type": "execute_result"
    }
   ],
   "source": [
    "txt = open(yaml_text[4], 'r',encoding='utf-8')\n",
    "content = txt.read()\n",
    "Markdown(content)"
   ]
  },
  {
   "cell_type": "code",
   "execution_count": 60,
   "metadata": {
    "hide_input": true
   },
   "outputs": [
    {
     "name": "stdout",
     "output_type": "stream",
     "text": [
      "Lunghezza della sottosequenza decrescente più lunga evitando i primi 4 elementi:\n"
     ]
    },
    {
     "data": {
      "application/vnd.jupyter.widget-view+json": {
       "model_id": "1f886ff983f9437d95637be97066de98",
       "version_major": 2,
       "version_minor": 0
      },
      "text/plain": [
       "IntText(value=1)"
      ]
     },
     "metadata": {},
     "output_type": "display_data"
    }
   ],
   "source": [
    "print(\"Lunghezza della sottosequenza decrescente più lunga evitando i primi 4 elementi:\")\n",
    "maxsubseq3=widgets.IntText(\n",
    "    value=1,\n",
    "    disabled=False\n",
    ")\n",
    "display(maxsubseq3)\n",
    "#6"
   ]
  },
  {
   "cell_type": "code",
   "execution_count": 61,
   "metadata": {
    "hide_input": true,
    "scrolled": true
   },
   "outputs": [
    {
     "data": {
      "application/vnd.jupyter.widget-view+json": {
       "model_id": "8ebb9c43f5e34a0c856df2037cdf485b",
       "version_major": 2,
       "version_minor": 0
      },
      "text/plain": [
       "VBox(children=(Button(description='Crea tabella', style=ButtonStyle()), Output()))"
      ]
     },
     "metadata": {},
     "output_type": "display_data"
    }
   ],
   "source": [
    "button3 = widgets.Button(description='Crea tabella')\n",
    "out = widgets.Output()\n",
    "def on_button_clicked3(_):\n",
    "      # \"linking function with output\"\n",
    "      with out:\n",
    "        display(Javascript('IPython.notebook.execute_cells([25])'))\n",
    "          # what happens when we press the button\n",
    "          #result1 = p_1(graph1)\n",
    "          #clear_output()\n",
    "          #print(result1)\n",
    "button3.on_click(on_button_clicked3)\n",
    "# displaying button and its output together\n",
    "widgets.VBox([button3,out])"
   ]
  },
  {
   "cell_type": "code",
   "execution_count": 98,
   "metadata": {
    "hide_input": true,
    "scrolled": true
   },
   "outputs": [
    {
     "data": {
      "application/vnd.jupyter.widget-view+json": {
       "model_id": "148a30ab438a4e5e861c0a72d1b9ef53",
       "version_major": 2,
       "version_minor": 0
      },
      "text/plain": [
       "Sheet(cells=(Cell(column_end=0, column_start=0, row_end=0, row_start=0, type='text', value='0'), Cell(column_e…"
      ]
     },
     "metadata": {},
     "output_type": "display_data"
    }
   ],
   "source": [
    "if path.exists(\"./exercise_3/data/tmp/es4.txt\"):\n",
    "    f = open(\"./exercise_3/data/tmp/es4.txt\", \"r\")\n",
    "    line = f.readline()\n",
    "    num=[int(s) for s in re.findall(r'\\b\\d+\\b', line)]\n",
    "    lunghezza4=len(num)\n",
    "    sheet5=ipysheet.sheet(rows=1,columns=lunghezza4,column_headers=False, row_headers=False)\n",
    "    for i in range(0,lunghezza4):\n",
    "        ipysheet.cell(0,i,str(num[i]))\n",
    "else:\n",
    "    lunghezza4=int(maxsubseq3.value)\n",
    "    sheet5=ipysheet.sheet(rows=1,columns=lunghezza4,column_headers=False, row_headers=False)\n",
    "    for i in range(0,lunghezza4):\n",
    "        ipysheet.cell(0,i,\"0\")\n",
    "\n",
    "sheet5\n",
    "\n",
    "#58, 47, 36, 30, 20, 18"
   ]
  },
  {
   "cell_type": "code",
   "execution_count": 101,
   "metadata": {
    "hide_input": true,
    "pycharm": {
     "name": "#%%\n"
    },
    "scrolled": true
   },
   "outputs": [
    {
     "data": {
      "application/javascript": [
       "IPython.notebook.execute_cells([26])"
      ],
      "text/plain": [
       "<IPython.core.display.Javascript object>"
      ]
     },
     "metadata": {},
     "output_type": "display_data"
    },
    {
     "data": {
      "application/vnd.jupyter.widget-view+json": {
       "model_id": "a0cbd06be275467783e4963d5b46ed7a",
       "version_major": 2,
       "version_minor": 0
      },
      "text/plain": [
       "HBox(children=(VBox(children=(Button(description='Reset Tabella', style=ButtonStyle()),)), VBox(children=(Butt…"
      ]
     },
     "metadata": {},
     "output_type": "display_data"
    }
   ],
   "source": [
    "words = ['Reset Tabella', 'Submit']\n",
    "items = [Button(description=w) for w in words]\n",
    "left_box = VBox([items[0]])\n",
    "right_box = VBox([items[1]])\n",
    "\n",
    "def reset4(_):\n",
    "    if path.exists(\"./exercise_3/data/tmp/es4.txt\"):\n",
    "        os.remove(\"./exercise_3/data/tmp/es4.txt\")\n",
    "    display(Javascript('IPython.notebook.execute_cells([25])'))\n",
    "\n",
    "def verify4(_):\n",
    "    f = open(\"./exercise_3/data/tmp/es4.txt\", \"w\")\n",
    "    f.write(str(list(map(int,ipysheet.to_array(sheet5)[0]))))\n",
    "    f.close()\n",
    "    ldsSubwithoutElementInRange(values[0], list(ipysheet.to_array(sheet5)[0]), lunghezza4, 0, 3)\n",
    "    time.sleep(5)\n",
    "    display(Javascript('IPython.notebook.execute_cells([26])'))\n",
    "    \n",
    "        \n",
    "items[0].on_click(reset4)\n",
    "items[1].on_click(verify4)\n",
    "\n",
    "HBox([left_box, right_box])\n",
    "\n"
   ]
  },
  {
   "cell_type": "code",
   "execution_count": 64,
   "metadata": {
    "hide_input": true,
    "pycharm": {
     "name": "#%%\n"
    },
    "scrolled": true
   },
   "outputs": [
    {
     "data": {
      "text/markdown": [
       "- Trovare una sottosequenza decrescente che sia la più lunga possibile ma eviti di utilizzare gli elementi dal 14-esimo a 17-esimo.\\\n",
       "Specificare quanto è lunga e fornirla."
      ],
      "text/plain": [
       "<IPython.core.display.Markdown object>"
      ]
     },
     "execution_count": 64,
     "metadata": {},
     "output_type": "execute_result"
    }
   ],
   "source": [
    "txt = open(yaml_text[5], 'r',encoding='utf-8')\n",
    "content = txt.read()\n",
    "Markdown(content)"
   ]
  },
  {
   "cell_type": "code",
   "execution_count": 65,
   "metadata": {
    "hide_input": true
   },
   "outputs": [
    {
     "name": "stdout",
     "output_type": "stream",
     "text": [
      "Lunghezza della sottosequenza decrescente più lunga evitando gli elementi dal 14-esimo a 17-esimo:\n"
     ]
    },
    {
     "data": {
      "application/vnd.jupyter.widget-view+json": {
       "model_id": "6a1883711e79444dacd79085569f56ea",
       "version_major": 2,
       "version_minor": 0
      },
      "text/plain": [
       "IntText(value=1)"
      ]
     },
     "metadata": {},
     "output_type": "display_data"
    }
   ],
   "source": [
    "print(\"Lunghezza della sottosequenza decrescente più lunga evitando gli elementi dal 14-esimo a 17-esimo:\")\n",
    "maxsubseq4=widgets.IntText(\n",
    "    value=1,\n",
    "    disabled=False\n",
    ")\n",
    "display(maxsubseq4)\n",
    "#9"
   ]
  },
  {
   "cell_type": "code",
   "execution_count": 66,
   "metadata": {
    "hide_input": true
   },
   "outputs": [
    {
     "data": {
      "application/vnd.jupyter.widget-view+json": {
       "model_id": "4469801529614774b4cbbb1077bff9e1",
       "version_major": 2,
       "version_minor": 0
      },
      "text/plain": [
       "VBox(children=(Button(description='Crea tabella', style=ButtonStyle()), Output()))"
      ]
     },
     "metadata": {},
     "output_type": "display_data"
    }
   ],
   "source": [
    "button4 = widgets.Button(description='Crea tabella')\n",
    "out = widgets.Output()\n",
    "def on_button_clicked4(_):\n",
    "      # \"linking function with output\"\n",
    "      with out:\n",
    "        display(Javascript('IPython.notebook.execute_cells([30])'))\n",
    "          # what happens when we press the button\n",
    "          #result1 = p_1(graph1)\n",
    "          #clear_output()\n",
    "          #print(result1)\n",
    "button4.on_click(on_button_clicked4)\n",
    "# displaying button and its output together\n",
    "widgets.VBox([button4,out])"
   ]
  },
  {
   "cell_type": "code",
   "execution_count": 103,
   "metadata": {
    "hide_input": true
   },
   "outputs": [
    {
     "data": {
      "application/vnd.jupyter.widget-view+json": {
       "model_id": "4b6ab56b65964e1ebfe37477002b16b4",
       "version_major": 2,
       "version_minor": 0
      },
      "text/plain": [
       "Sheet(cells=(Cell(column_end=0, column_start=0, row_end=0, row_start=0, type='text', value='0'), Cell(column_e…"
      ]
     },
     "metadata": {},
     "output_type": "display_data"
    }
   ],
   "source": [
    "if path.exists(\"./exercise_3/data/tmp/es5.txt\"):\n",
    "    f = open(\"./exercise_3/data/tmp/es5.txt\", \"r\")\n",
    "    line = f.readline()\n",
    "    num=[int(s) for s in re.findall(r'\\b\\d+\\b', line)]\n",
    "    lunghezza5=len(num)\n",
    "    sheet6=ipysheet.sheet(rows=1,columns=lunghezza5,column_headers=False, row_headers=False)\n",
    "    for i in range(0,lunghezza5):\n",
    "        ipysheet.cell(0,i,str(num[i]))\n",
    "else:\n",
    "    lunghezza5=int(maxsubseq4.value)\n",
    "    sheet6=ipysheet.sheet(rows=1,columns=lunghezza5,column_headers=False, row_headers=False)\n",
    "    for i in range(0,lunghezza5):\n",
    "        ipysheet.cell(0,i,\"0\")\n",
    "\n",
    "sheet6\n",
    "\n",
    "#65, 57, 55, 50, 47, 39, 38, 35, 26"
   ]
  },
  {
   "cell_type": "code",
   "execution_count": 105,
   "metadata": {
    "hide_input": true,
    "pycharm": {
     "name": "#%%\n"
    }
   },
   "outputs": [
    {
     "data": {
      "application/javascript": [
       "IPython.notebook.execute_cells([31])"
      ],
      "text/plain": [
       "<IPython.core.display.Javascript object>"
      ]
     },
     "metadata": {},
     "output_type": "display_data"
    },
    {
     "data": {
      "application/vnd.jupyter.widget-view+json": {
       "model_id": "611f1366bd804853879e22dd7001bb34",
       "version_major": 2,
       "version_minor": 0
      },
      "text/plain": [
       "HBox(children=(VBox(children=(Button(description='Reset Tabella', style=ButtonStyle()),)), VBox(children=(Butt…"
      ]
     },
     "metadata": {},
     "output_type": "display_data"
    }
   ],
   "source": [
    "words = ['Reset Tabella', 'Submit']\n",
    "items = [Button(description=w) for w in words]\n",
    "left_box = VBox([items[0]])\n",
    "right_box = VBox([items[1]])\n",
    "\n",
    "def reset5(_):\n",
    "    if path.exists(\"./exercise_3/data/tmp/es5.txt\"):\n",
    "        os.remove(\"./exercise_3/data/tmp/es5.txt\")\n",
    "    display(Javascript('IPython.notebook.execute_cells([30])'))\n",
    "\n",
    "def verify5(_):\n",
    "    f = open(\"./exercise_3/data/tmp/es5.txt\", \"w\")\n",
    "    f.write(str(list(map(int,ipysheet.to_array(sheet6)[0]))))\n",
    "    f.close()\n",
    "    ldsSubwithoutElementInRange(values[0], list(ipysheet.to_array(sheet6)[0]), lunghezza5, 13, 16)\n",
    "    time.sleep(5)\n",
    "    display(Javascript('IPython.notebook.execute_cells([31])'))\n",
    "    \n",
    "        \n",
    "items[0].on_click(reset5)\n",
    "items[1].on_click(verify5)\n",
    "\n",
    "HBox([left_box, right_box])\n",
    "\n",
    "\n"
   ]
  },
  {
   "cell_type": "code",
   "execution_count": 69,
   "metadata": {
    "hide_input": true,
    "pycharm": {
     "name": "#%%\n"
    }
   },
   "outputs": [
    {
     "data": {
      "text/markdown": [
       "- Fornire un minimo numero di sottosequenze crescenti tali che ogni elemento della sequenza fornita ricada in almeno una di esse.\\\n",
       "Specificare quante sono e fornirle.\n"
      ],
      "text/plain": [
       "<IPython.core.display.Markdown object>"
      ]
     },
     "execution_count": 69,
     "metadata": {},
     "output_type": "execute_result"
    }
   ],
   "source": [
    "txt = open(yaml_text[6], 'r',encoding='utf-8')\n",
    "content = txt.read()\n",
    "Markdown(content)"
   ]
  },
  {
   "cell_type": "code",
   "execution_count": 70,
   "metadata": {
    "hide_input": true,
    "pycharm": {
     "name": "#%%\n"
    }
   },
   "outputs": [
    {
     "name": "stdout",
     "output_type": "stream",
     "text": [
      "Inserisci il numero di sottosequenze:\n"
     ]
    },
    {
     "data": {
      "application/vnd.jupyter.widget-view+json": {
       "model_id": "a7ad1e384b3e4cdab00184c280fb4596",
       "version_major": 2,
       "version_minor": 0
      },
      "text/plain": [
       "IntText(value=1)"
      ]
     },
     "metadata": {},
     "output_type": "display_data"
    }
   ],
   "source": [
    "print(\"Inserisci il numero di sottosequenze:\")\n",
    "nsubseq=widgets.IntText(\n",
    "    value=1,\n",
    "    disabled=False\n",
    ")\n",
    "display(nsubseq)\n",
    "#9\n"
   ]
  },
  {
   "cell_type": "code",
   "execution_count": 71,
   "metadata": {
    "hide_input": true,
    "pycharm": {
     "name": "#%%\n"
    }
   },
   "outputs": [
    {
     "name": "stdout",
     "output_type": "stream",
     "text": [
      "Inserisci la dimensione della sottosequenza più lunga:\n"
     ]
    },
    {
     "data": {
      "application/vnd.jupyter.widget-view+json": {
       "model_id": "f9b5ed221f494d5881fce5be9dcabae5",
       "version_major": 2,
       "version_minor": 0
      },
      "text/plain": [
       "IntText(value=1)"
      ]
     },
     "metadata": {},
     "output_type": "display_data"
    }
   ],
   "source": [
    "print(\"Inserisci la dimensione della sottosequenza più lunga:\")\n",
    "maxsubseq5=widgets.IntText(\n",
    "    value=1,\n",
    "    disabled=False\n",
    ")\n",
    "display(maxsubseq5)\n",
    "\n",
    "#4"
   ]
  },
  {
   "cell_type": "code",
   "execution_count": 72,
   "metadata": {
    "hide_input": true,
    "pycharm": {
     "name": "#%%\n"
    }
   },
   "outputs": [
    {
     "data": {
      "application/vnd.jupyter.widget-view+json": {
       "model_id": "585018a6d6c04bf8bd485be034fb4d3d",
       "version_major": 2,
       "version_minor": 0
      },
      "text/plain": [
       "VBox(children=(Button(description='Crea tabella', style=ButtonStyle()), Output()))"
      ]
     },
     "metadata": {},
     "output_type": "display_data"
    }
   ],
   "source": [
    "button5 = widgets.Button(description='Crea tabella')\n",
    "out = widgets.Output()\n",
    "def on_button_clicked5(_):\n",
    "      # \"linking function with output\"\n",
    "      with out:\n",
    "        display(Javascript('IPython.notebook.execute_cells([36])'))\n",
    "          # what happens when we press the button\n",
    "          #result1 = p_1(graph1)\n",
    "          #clear_output()\n",
    "          #print(result1)\n",
    "button5.on_click(on_button_clicked5)\n",
    "# displaying button and its output together\n",
    "widgets.VBox([button5,out])"
   ]
  },
  {
   "cell_type": "code",
   "execution_count": 117,
   "metadata": {
    "hide_input": true,
    "pycharm": {
     "name": "#%%\n"
    },
    "scrolled": true
   },
   "outputs": [
    {
     "data": {
      "application/vnd.jupyter.widget-view+json": {
       "model_id": "c9d4fbd7f2ae4ca09f7306e7fde7893b",
       "version_major": 2,
       "version_minor": 0
      },
      "text/plain": [
       "Sheet(cells=(Cell(column_end=0, column_start=0, row_end=0, row_start=0, type='text', value='65'), Cell(column_…"
      ]
     },
     "metadata": {},
     "output_type": "display_data"
    }
   ],
   "source": [
    "if path.exists(\"./exercise_3/data/tmp/es6.txt\"):\n",
    "    f = open(\"./exercise_3/data/tmp/es6.txt\", \"r\")\n",
    "    lines = f.readlines()\n",
    "    num=[]\n",
    "    for line in lines:\n",
    "        num.append([int(s) for s in re.findall(r'\\b\\d+\\b', line)])\n",
    "    r=len(num)\n",
    "    c=len(num[0])\n",
    "    sheet7=ipysheet.sheet(rows=r,columns=c,column_headers=False, row_headers=False)\n",
    "    for i in range(0,r):\n",
    "        for j in range(0,c):\n",
    "            ipysheet.cell(i,j,str(num[i][j]))        \n",
    "else:\n",
    "    r=int(nsubseq.value)\n",
    "    c=int(maxsubseq5.value)\n",
    "    sheet7=ipysheet.sheet(rows=r,columns=c,column_headers=False, row_headers=False)\n",
    "    for i in range(0,r):\n",
    "        for j in range(0,c):\n",
    "            ipysheet.cell(i,j,\"0\")\n",
    "\n",
    "sheet7\n",
    "\n",
    "#65; 57,58,59,61; 55,56; 50,54; 47,53; 36,39,45,51 ; 30,33,38; 9,13,20,35,52,70 ; 18,19,26"
   ]
  },
  {
   "cell_type": "code",
   "execution_count": 120,
   "metadata": {
    "hide_input": true,
    "pycharm": {
     "name": "#%%\n"
    }
   },
   "outputs": [
    {
     "data": {
      "application/javascript": [
       "IPython.notebook.execute_cells([37])"
      ],
      "text/plain": [
       "<IPython.core.display.Javascript object>"
      ]
     },
     "metadata": {},
     "output_type": "display_data"
    },
    {
     "data": {
      "application/vnd.jupyter.widget-view+json": {
       "model_id": "91d39c26a8c141bf88c4b97b3aed729d",
       "version_major": 2,
       "version_minor": 0
      },
      "text/plain": [
       "HBox(children=(VBox(children=(Button(description='Reset Tabella', style=ButtonStyle()),)), VBox(children=(Butt…"
      ]
     },
     "metadata": {},
     "output_type": "display_data"
    }
   ],
   "source": [
    "words = ['Reset Tabella', 'Submit']\n",
    "items = [Button(description=w) for w in words]\n",
    "left_box = VBox([items[0]])\n",
    "#center_box = VBox([items[1]])\n",
    "right_box = VBox([items[1]])\n",
    "\n",
    "def reset6(_):\n",
    "    if path.exists(\"./exercise_3/data/tmp/es6.txt\"):\n",
    "        os.remove(\"./exercise_3/data/tmp/es6.txt\")\n",
    "    display(Javascript('IPython.notebook.execute_cells([36])'))\n",
    "\n",
    "def verify6(_):\n",
    "    f = open(\"./exercise_3/data/tmp/es6.txt\", \"w\")\n",
    "    aux=ipysheet.to_array(sheet7)\n",
    "    for elem in aux:\n",
    "        f.write(str(list(map(int,elem)))+\"\\n\")\n",
    "    f.close()\n",
    "    minimoNumSubCRE(values[0], list(ipysheet.to_array(sheet7)), r)\n",
    "    time.sleep(15)\n",
    "    display(Javascript('IPython.notebook.execute_cells([37])'))\n",
    "    \n",
    "        \n",
    "items[0].on_click(reset6)\n",
    "items[1].on_click(verify6)\n",
    "\n",
    "HBox([left_box, right_box])"
   ]
  },
  {
   "cell_type": "code",
   "execution_count": 75,
   "metadata": {
    "hide_input": true
   },
   "outputs": [
    {
     "data": {
      "application/vnd.jupyter.widget-view+json": {
       "model_id": "f518bb2a6d23460187ff332046d6daaf",
       "version_major": 2,
       "version_minor": 0
      },
      "text/plain": [
       "VBox(children=(Button(description='Invia tutti i risultati', style=ButtonStyle()), Output()))"
      ]
     },
     "metadata": {},
     "output_type": "display_data"
    }
   ],
   "source": [
    "button6 = widgets.Button(description='Invia tutti i risultati')\n",
    "out = widgets.Output()\n",
    "def on_button_clicked6(_):\n",
    "      with out:\n",
    "        save_results(res_path)\n",
    "        clear_output()\n",
    "        print(\"Risultati inviati\")\n",
    "button6.on_click(on_button_clicked6)\n",
    "widgets.VBox([button6,out])"
   ]
  }
 ],
 "metadata": {
  "kernelspec": {
   "display_name": "Python 3",
   "language": "python",
   "name": "python3"
  },
  "language_info": {
   "codemirror_mode": {
    "name": "ipython",
    "version": 3
   },
   "file_extension": ".py",
   "mimetype": "text/x-python",
   "name": "python",
   "nbconvert_exporter": "python",
   "pygments_lexer": "ipython3",
   "version": "3.8.2"
  }
 },
 "nbformat": 4,
 "nbformat_minor": 1
}
