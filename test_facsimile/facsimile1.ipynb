{
 "cells": [
  {
   "cell_type": "markdown",
   "metadata": {},
   "source": [
    "# RICERCA OPERATIVA - TEMA D'ESAME #\n",
    "\n",
    "<h3>Istruzioni:</h3>\n",
    "\n",
    "- Verifica subito di non riscontrare errori eseguendo la cella seguente;\n",
    "\n",
    "- Nella risoluzione degli esercizi, se non specificato puntualmente di usare una certa tipologia di cella, puoi usare celle a tuo piacimento di tipo _Code_ (se vuoi programmare qualcosa in Python), _Markdown_ (se vuoi scrivere del testo e magari renderizzarlo anche in LaTeX) o _Raw NB Convert_ (se vuoi scrivere del testo semplice)."
   ]
  },
  {
   "cell_type": "code",
   "execution_count": 62,
   "metadata": {},
   "outputs": [],
   "source": [
    "from IPython.display import display, Markdown, Latex\n",
    "import os\n",
    "import pulp as p\n",
    "import random\n",
    "import sys\n",
    "current_dir = os.getcwd()"
   ]
  },
  {
   "cell_type": "code",
   "execution_count": 153,
   "metadata": {},
   "outputs": [
    {
     "data": {
      "text/markdown": [
       "## Programmazione Dinamica ##\n",
       "\n",
       "Trovare la più lunga sottosequenza comune tra le stringhe seguenti:\n",
       "- _s_ = ATTCTCACAATGCTTCTA\n",
       "- _t_ = ACTATCAGTCAACCTAT\n",
       "\n",
       "Fare lo stesso con alcuni suffissi di _s_ e _t_.\n",
       "\n",
       "__Richieste__:\n",
       "1. Qual è la più lunga sottosequenza comune tra _s_ e _t_? (1 punto)\n",
       "2. E nel caso sia richiesto che la sottosequenza comune incominci con 'C'? (1 punto)\n",
       "3. E nel caso sia richiesto che la sottosequenza comune incominci con 'G'? (1 punto)\n",
       "3. Qual è la più lunga sottosequenza comune tra _s_ e il suo suffisso _t9_ = TCAACCTAT di _t_? (1 punto)\n",
       "4. Qual è la più lunga sottosequenza comune tra _t_ e il pre\f",
       "fisso _s8_ = TGCTTCTA di _s_? (1 punto)\n"
      ],
      "text/plain": [
       "<IPython.core.display.Markdown object>"
      ]
     },
     "execution_count": 153,
     "metadata": {},
     "output_type": "execute_result"
    }
   ],
   "source": [
    "dp_path = current_dir + '/dynamic-programming/'\n",
    "dp = random.choice(os.listdir(dp_path))\n",
    "chosen = dp_path + dp\n",
    "\n",
    "if sys.version_info[0] == 3:\n",
    "    txt = open(chosen, 'r',encoding='utf-8')\n",
    "    content = txt.read()\n",
    "else:\n",
    "    txt = open(chosen, \"rb\")\n",
    "    content = txt.read().decode(\"UTF-8\")\n",
    "text_str = content\n",
    "Markdown(text_str)"
   ]
  },
  {
   "cell_type": "raw",
   "metadata": {},
   "source": []
  },
  {
   "cell_type": "code",
   "execution_count": 64,
   "metadata": {},
   "outputs": [
    {
     "data": {
      "text/markdown": [
       "## Programmazione Lineare ##\n",
       "\n",
       "Testo 1\n"
      ],
      "text/plain": [
       "<IPython.core.display.Markdown object>"
      ]
     },
     "execution_count": 64,
     "metadata": {},
     "output_type": "execute_result"
    }
   ],
   "source": [
    "lp_path = current_dir + '/lp/'\n",
    "lp = random.choice(os.listdir(lp_path))\n",
    "chosen = lp_path + lp\n",
    "\n",
    "if sys.version_info[0] == 3:\n",
    "    txt = open(chosen, 'r',encoding='utf-8')\n",
    "    content = txt.read()\n",
    "else:\n",
    "    txt = open(chosen, \"rb\")\n",
    "    content = txt.read().decode(\"UTF-8\")\n",
    "text_str = content\n",
    "Markdown(text_str)"
   ]
  },
  {
   "cell_type": "raw",
   "metadata": {},
   "source": []
  },
  {
   "cell_type": "code",
   "execution_count": 137,
   "metadata": {},
   "outputs": [
    {
     "data": {
      "text/markdown": [
       "## Modellizzazione ##\n",
       "\n",
       "La GiuseppeRospo S.p.A. è specializzata nella produzione di pasta. In particolare, i prodotti più venduti sono cinque: le penne rigate, le conchiglie, gli spaghetti, i tortiglioni e i ravioli. I prodotti sono realizzati seguendo un processo di lavorazione, che include una fase di trafilatura per dare alla pasta la forma desiderata. La GiuseppeRospo S.p.A. possiede due macchinari per la trafilatura, M1 e M2, che in base al tipo di prodotto impiegano tempi diversi.\n",
       "La macchina M2 è la versione aggiornata della macchina M1, perciò è in grado di compiere la stessa operazione un po’ più velocemente.\n",
       "Nella tabella seguente sono indicati i minuti richiesti per la trafilatura di ogni prodotto se processato con la macchina M1 oppure con la macchina M2.\n",
       "\n",
       "| PRODOTTO     | TEMPO SU M1 | TEMPO SU M2 |\n",
       "|--------------|-------------|-------------|\n",
       "| Penne rigate | 14          | 10          |\n",
       "| Conchiglie   | 18          | 14          |\n",
       "| Spaghetti    | 10          | 8           |\n",
       "| Tortiglioni  | 15          | 11          |\n",
       "| Ravioli      | 10          | 7           |\n",
       "\n",
       "\n",
       "__Richieste__:\n",
       "1. Formulare il problema come problema di Programmazione Lineare Intera, motivando le scelte compiute in una cella Markdown o Raw (3 punti)\n",
       "2. Risolvere il problema sfruttando la libreria Pulp, trovando come assegnare i cinque prodotti alle due macchine in modo da minimizzare il _makespan_ (i.e., la durata complessiva della lavorazione, dall’inizio alla fine) (5 punti)\n",
       "3. E se invece si volesse minimizzare l’attesa totale dei prodotti per essere lavorati, come cambierebbe la funzione obiettivo? E il suo valore all'ottimo? (2 punti)\n"
      ],
      "text/plain": [
       "<IPython.core.display.Markdown object>"
      ]
     },
     "execution_count": 137,
     "metadata": {},
     "output_type": "execute_result"
    }
   ],
   "source": [
    "model_path = current_dir + '/modelling/'\n",
    "model = random.choice(os.listdir(model_path))\n",
    "chosen = model_path + model\n",
    "\n",
    "if sys.version_info[0] == 3:\n",
    "    txt = open(chosen, 'r',encoding='UTF-8')\n",
    "    content = txt.read()\n",
    "else:\n",
    "    txt = open(chosen, \"rb\")\n",
    "    content = txt.read().decode(\"UTF-8\")\n",
    "    \n",
    "text_str = content\n",
    "Markdown(text_str)"
   ]
  },
  {
   "cell_type": "raw",
   "metadata": {},
   "source": []
  },
  {
   "cell_type": "code",
   "execution_count": 66,
   "metadata": {},
   "outputs": [
    {
     "data": {
      "text/markdown": [
       "## Teoria dei Grafi ##\n",
       "\n",
       "Testo 2\n"
      ],
      "text/plain": [
       "<IPython.core.display.Markdown object>"
      ]
     },
     "execution_count": 66,
     "metadata": {},
     "output_type": "execute_result"
    }
   ],
   "source": [
    "gt_path = current_dir + '/graph-theory/'\n",
    "gt = random.choice(os.listdir(gt_path))\n",
    "chosen = gt_path + gt\n",
    "\n",
    "if sys.version_info[0] == 3:\n",
    "    txt = open(chosen, 'r',encoding='utf-8')\n",
    "    content = txt.read()\n",
    "else:\n",
    "    txt = open(chosen, \"rb\")\n",
    "    content = txt.read().decode(\"UTF-8\")\n",
    "text_str = content\n",
    "Markdown(text_str)"
   ]
  },
  {
   "cell_type": "raw",
   "metadata": {},
   "source": []
  }
 ],
 "metadata": {
  "kernelspec": {
   "display_name": "Python 3",
   "language": "python",
   "name": "python3"
  },
  "language_info": {
   "codemirror_mode": {
    "name": "ipython",
    "version": 3
   },
   "file_extension": ".py",
   "mimetype": "text/x-python",
   "name": "python",
   "nbconvert_exporter": "python",
   "pygments_lexer": "ipython3",
   "version": "3.7.6"
  }
 },
 "nbformat": 4,
 "nbformat_minor": 4
}
