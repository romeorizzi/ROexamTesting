{
 "cells": [
  {
   "cell_type": "markdown",
   "metadata": {},
   "source": [
    "# RICERCA OPERATIVA - TEMA D'ESAME FAC-SIMILE #\n",
    "### TIPOLOGIE DI ESERCIZI VISTE A LEZIONE ###\n",
    "\n",
    "<h3>Istruzioni:</h3>\n",
    "\n",
    "- Verifica subito di non riscontrare errori eseguendo la cella seguente;\n",
    "\n",
    "- Nella risoluzione degli esercizi, se non specificato puntualmente di usare una certa tipologia di cella, puoi usare celle a tuo piacimento di tipo _Code_ (se vuoi programmare qualcosa in Python), _Markdown_ (se vuoi scrivere del testo e magari renderizzarlo anche in LaTeX) o _Raw NB Convert_ (se vuoi scrivere del testo semplice)."
   ]
  },
  {
   "cell_type": "code",
   "execution_count": 1,
   "metadata": {},
   "outputs": [],
   "source": [
    "from IPython.display import display, Markdown, Latex\n",
    "import os\n",
    "import pulp as p\n",
    "import random\n",
    "import simplesso_interattivo as s\n",
    "import sys"
   ]
  },
  {
   "cell_type": "markdown",
   "metadata": {},
   "source": [
    "## Programmazione Dinamica ##"
   ]
  },
  {
   "cell_type": "markdown",
   "metadata": {},
   "source": [
    "### Esercizio 1 (4 punti) ###\n",
    "Trovare la più lunga sottosequenza comune tra le stringhe seguenti:\n",
    "- _s_ = ATTCTCACAATGCTTCTA\n",
    "- _t_ = ACTATCAGTCAACCTAT\n",
    "\n",
    "Fare lo stesso con alcuni suffissi di _s_ e _t_.\n",
    "\n",
    "__Richieste__:\n",
    "1. Qual è la più lunga sottosequenza comune tra _s_ e _t_? (1 punto)\n",
    "2. E nel caso sia richiesto che la sottosequenza comune incominci con 'C'? (1 punto)\n",
    "3. E nel caso sia richiesto che la sottosequenza comune incominci con 'G'? (1 punto)\n",
    "3. Qual è la più lunga sottosequenza comune tra _s_ e il suo suffisso _t9_ = TCAACCTAT di _t_? (1 punto)\n",
    "4. Qual è la più lunga sottosequenza comune tra _t_ e il pre\f",
    "fisso _s8_ = TGCTTCTA di _s_? (1 punto)"
   ]
  },
  {
   "cell_type": "raw",
   "metadata": {},
   "source": []
  },
  {
   "cell_type": "markdown",
   "metadata": {},
   "source": [
    "### Esercizio 2 (4 punti) ###\n",
    "\n",
    "Un robot R, inizialmente situato nella cella A1, deve portarsi nella sua home H situata nella cella G9.\n",
    "\n",
    "|   | 1 | 2 | 3 | 4 | 5 | 6 | 7 | 8 | 9 |\n",
    "|:-:|:-:|:-:|:-:|:-:|:-:|:-:|:-:|:-:|:-:|\n",
    "| A | R |   |   |   |   |   |   |   | X |\n",
    "| B |   |   | X |   | X | X |   |   |   |\n",
    "| C |   | X |   |   |   |   |   |   |   |\n",
    "| D |   |   | X |   |   | X |   |   |   |\n",
    "| E |   |   |   | X |   |   |   |   |   |\n",
    "| F |   |   | X |   | X |   |   |   |   |\n",
    "| G |   |   |   | X |   |   |   |   | H |\n",
    "\n",
    "I movimenti base possibili sono il passo verso destra (ad esempio dalla cella A4 alla cella A5) ed il passo verso in basso (ad esempio dalla cella A4 alla cella B4). Tuttavia il robot non puà visitare le celle occupate da un Pacman (indicate con la X). Quanti sono i percorsi possibili?\n",
    "\n",
    "__Richieste__:\n",
    "1. Quanti sono i percorsi possibili se la partenza \u0012e in A1? (1 punto)\n",
    "2. E se la partenza è in C3? (1 punto)\n",
    "3. E se con partenza in A1 il robot deve giungere in F6? (1 punto)\n",
    "4. E se con partenza in A1 e arrivo in G9 al robot viene richiesto di passare per la cella D5? (1 punto)\n"
   ]
  },
  {
   "cell_type": "raw",
   "metadata": {},
   "source": [
    "RICHIESTA 1:\n",
    "..."
   ]
  },
  {
   "cell_type": "raw",
   "metadata": {},
   "source": [
    "RICHIESTA 2:\n",
    "..."
   ]
  },
  {
   "cell_type": "raw",
   "metadata": {},
   "source": [
    "RICHIESTA 3:\n",
    "..."
   ]
  },
  {
   "cell_type": "raw",
   "metadata": {},
   "source": [
    "RICHIESTA 4:\n",
    "..."
   ]
  },
  {
   "cell_type": "markdown",
   "metadata": {},
   "source": [
    "### Esercizio 3 (4 punti) ###\n",
    "\n",
    "Si consideri la seguente sequenza di numeri naturali:<br>\n",
    "1 14 8 2 4 21 28 48 5 26 49 9 32 19 12 46 10 7 3 25 11 6 29 39 44 13\n",
    "\n",
    "__Richieste__:\n",
    "1. Trovare una sottosequenza crescente che sia la più lunga possibile e specificarne la lunghezza (1 punto)\n",
    "2. Trovare una sottosequenza decrescente che sia la più lunga possibile e specificarne la lunghezza (1 punto)\n",
    "3. Una sequenza è detta una _V-sequenza_ se cala fino ad un certo punto, e da lì in poi cresce sempre. Trovare la più lunga V-sequenza che sia una sottosequenza della sequenza data e specificarne la lunghezza (1 punto)\n",
    "4. Trovare la più lunga sottosequenza crescente che includa l'elemento di valore 7 e specificarne la lunghezza (1 punto)\n"
   ]
  },
  {
   "cell_type": "raw",
   "metadata": {},
   "source": [
    "RICHIESTA 1:\n",
    "..."
   ]
  },
  {
   "cell_type": "raw",
   "metadata": {},
   "source": [
    "RICHIESTA 2:\n",
    "..."
   ]
  },
  {
   "cell_type": "raw",
   "metadata": {},
   "source": [
    "RICHIESTA 3:\n",
    "..."
   ]
  },
  {
   "cell_type": "raw",
   "metadata": {},
   "source": [
    "RICHIESTA 4:\n",
    "..."
   ]
  },
  {
   "cell_type": "markdown",
   "metadata": {},
   "source": [
    "## Modellizzazioni ##"
   ]
  },
  {
   "cell_type": "markdown",
   "metadata": {},
   "source": [
    "### Esercizio 4 (10 punti) ###\n",
    "\n",
    "La Loamed e un'azienda che produce snack. La disponibilità di materie prime, alla fine di gennaio, è la seguente:\n",
    "550 kg di arachidi, 150 kg di pistacchi, 90 kg di mandorle e 70 kg di nocciole. Ogni scatola contiene 500 grammi di prodotto. La Loamed produce quattro tipi di snack, descritti di seguito:\n",
    "\n",
    "| Prodotto |                                   Composizione                                   | Profitto (euro/scatola) |\n",
    "|:--------:|:--------------------------------------------------------------------------------:|:-----------------------:|\n",
    "|    Mem   |                                   solo arachidi                                  |           1.20          |\n",
    "|    Num   | non più del 50% di arachidi<br>almeno il 10% di mandorle<br>almeno il 15% di pistacchi |           2,50          |\n",
    "|    Pem   |                                  solo pistacchi                                  |           3.50          |\n",
    "|    Qof   |  almeno il 30% di pistacchi<br>almeno il 20% di mandorle<br>almeno il 30% di nocciole  |           3.00          |\n",
    "\n",
    "__Richieste__:\n",
    "1. Supponendo che tutto quanto prodotto venga venduto, formulare come PL il problema di massimizzare il profitto della Loamed, motivando le scelte compiute in una cella Markdown o Raw (3 punti)\n",
    "2. Risolvere il problema sfruttando la libreria Pulp (5 punti)\n",
    "3. Indicare dove l’eventuale aggiunta di qualche vincolo di interezza possa lievemente aumentare la precisione del modello (2 punti)"
   ]
  },
  {
   "cell_type": "raw",
   "metadata": {},
   "source": [
    "RICHIESTA 1:\n",
    "..."
   ]
  },
  {
   "cell_type": "code",
   "execution_count": 2,
   "metadata": {},
   "outputs": [],
   "source": [
    "# RICHIESTA 2\n",
    "\n",
    "# Creiamo un problema di PL\n",
    "probLP = p.LpProblem('Loamed', p.LpMaximize)  \n",
    "  \n",
    "# etc..."
   ]
  },
  {
   "cell_type": "raw",
   "metadata": {},
   "source": [
    "RICHIESTA 3:\n",
    "..."
   ]
  },
  {
   "cell_type": "markdown",
   "metadata": {},
   "source": [
    "## Teoria dei Grafi ##"
   ]
  },
  {
   "cell_type": "markdown",
   "metadata": {},
   "source": [
    "### Esercizio 5 (15 punti) ###\n",
    "\n",
    "Si consideri il grafo $G$, con pesi sugli archi, riportato in figura:\n",
    "<img src='maxi-tema1-grafo.png' width=800>"
   ]
  },
  {
   "cell_type": "markdown",
   "metadata": {},
   "source": [
    "__Richieste__:\n",
    "\n",
    "1. Dire, certificandolo, se il grafo sia planare oppure no (1 punto)"
   ]
  },
  {
   "cell_type": "raw",
   "metadata": {},
   "source": [
    "RICHIESTA 1:\n",
    "..."
   ]
  },
  {
   "cell_type": "markdown",
   "metadata": {},
   "source": [
    "2. Trovare un albero dei cammini minimi dal nodo $s$ a tutti gli altri nodi del grafo (3 punti)"
   ]
  },
  {
   "cell_type": "raw",
   "metadata": {},
   "source": [
    "RICHIESTA 2:\n",
    "..."
   ]
  },
  {
   "cell_type": "markdown",
   "metadata": {},
   "source": [
    "3. Trovare un albero ricoprente di peso minimo (2 punti)"
   ]
  },
  {
   "cell_type": "raw",
   "metadata": {},
   "source": [
    "RICHIESTA 3:\n",
    "..."
   ]
  },
  {
   "cell_type": "markdown",
   "metadata": {},
   "source": [
    "4. Trovare tutti gli alberi ricoprenti di peso minimo, dicendo quanti sono e specificando con precisione come generarli (3 punti)"
   ]
  },
  {
   "cell_type": "raw",
   "metadata": {},
   "source": [
    "RICHIESTA 4:\n",
    "..."
   ]
  },
  {
   "cell_type": "markdown",
   "metadata": {},
   "source": [
    "5. Trovare un massimo flusso dal nodo $s$ al nodo $t$ (3 punti)"
   ]
  },
  {
   "cell_type": "raw",
   "metadata": {},
   "source": [
    "RICHIESTA 5:\n",
    "..."
   ]
  },
  {
   "cell_type": "markdown",
   "metadata": {},
   "source": [
    "6. Certificare l'ottimalità del flusso massimo dal nodo $s$ al nodo $t$ (3 punti)"
   ]
  },
  {
   "cell_type": "raw",
   "metadata": {},
   "source": [
    "RICHIESTA 6:\n",
    "..."
   ]
  },
  {
   "cell_type": "markdown",
   "metadata": {},
   "source": [
    "## PROGRAMMAZIONE LINEARE ##"
   ]
  },
  {
   "cell_type": "markdown",
   "metadata": {},
   "source": [
    "### Esercizio 6 (15 punti) ###\n",
    "\n",
    "Si consideri il seguente problema di Programmazione Lineare:\n",
    "\n",
    "max $6x_1 - 5x_2 - 3x_3 - 4x_4$\n",
    "\n",
    "tale che:\n",
    "\n",
    "\n",
    "$4x_1 + 5x_2 - 3x_3 + x4 \\le 5$\n",
    "\n",
    "$2x_1 - 5x_2 + x3 - x4 \\le -5$\n",
    "\n",
    "$2x_1 - x_2 + 2x_3 - x_4 \\le 4$\n",
    "\n",
    "$x_1, x_2, x_3, x_4 \\ge 0$\n",
    "\n",
    "\n",
    "__Richieste__:\n",
    "1. Impostare il problema ausiliario (1 punto)"
   ]
  },
  {
   "cell_type": "raw",
   "metadata": {},
   "source": [
    "RICHIESTA 1:\n",
    "..."
   ]
  },
  {
   "cell_type": "markdown",
   "metadata": {},
   "source": [
    "2. Risolvere il problema ausiliario per ottenere una soluzione ammissibile di base al problema originario (4 punti)"
   ]
  },
  {
   "cell_type": "raw",
   "metadata": {},
   "source": [
    "RICHIESTA 2:\n",
    "..."
   ]
  },
  {
   "cell_type": "markdown",
   "metadata": {},
   "source": [
    "3. Risolvere il problema originario all'ottimo (3 punti)"
   ]
  },
  {
   "cell_type": "raw",
   "metadata": {},
   "source": [
    "RICHIESTA 3:\n",
    "..."
   ]
  },
  {
   "cell_type": "markdown",
   "metadata": {},
   "source": [
    "4. Quanto si sarebbe disposti a pagare per ogni unità di incremento per l'availability nei tre vincoli per piccole variazioni? (1 punto)"
   ]
  },
  {
   "cell_type": "raw",
   "metadata": {},
   "source": [
    "RICHIESTA 4:\n",
    "..."
   ]
  },
  {
   "cell_type": "markdown",
   "metadata": {},
   "source": [
    "5. Fino a dove si sarebbe disposti a pagare tali prezzi ombra? (2 punti)"
   ]
  },
  {
   "cell_type": "raw",
   "metadata": {},
   "source": [
    "RICHIESTA 5:\n",
    "..."
   ]
  },
  {
   "cell_type": "markdown",
   "metadata": {},
   "source": [
    "### Esercizio 7 (6 punti) ###\n",
    "\n",
    "Si consideri la soluzione $x_3 = x_6 = 0, x_1 = 6, x_2 = 5, x_4 = 10, x_5 = 14$ del seguente problema:"
   ]
  },
  {
   "cell_type": "markdown",
   "metadata": {},
   "source": [
    "__Richieste__:\n",
    "1. Verificare esplicitamente che la soluzione proposta sia ammissibile (1 punto)"
   ]
  },
  {
   "cell_type": "raw",
   "metadata": {},
   "source": [
    "RICHIESTA 1:\n",
    "..."
   ]
  },
  {
   "cell_type": "markdown",
   "metadata": {},
   "source": [
    "2. Scrivere il problema duale (1 punto)"
   ]
  },
  {
   "cell_type": "raw",
   "metadata": {},
   "source": [
    "RICHIESTA 2:\n",
    "..."
   ]
  },
  {
   "cell_type": "markdown",
   "metadata": {},
   "source": [
    "3. Impostare il sistema che esprima le condizioni agli scarti complementari (1 punto)"
   ]
  },
  {
   "cell_type": "raw",
   "metadata": {},
   "source": [
    "RICHIESTA 3:\n",
    "..."
   ]
  },
  {
   "cell_type": "markdown",
   "metadata": {},
   "source": [
    "4. Risolvere il sistema per trovare una soluzione duale complementare alla soluzione primale fornita (1 punto)"
   ]
  },
  {
   "cell_type": "raw",
   "metadata": {},
   "source": [
    "RICHIESTA 4:\n",
    "..."
   ]
  },
  {
   "cell_type": "markdown",
   "metadata": {},
   "source": [
    "5. Per quali valori dei parametri $C_3$ e $C_6$ la soluzione assegnata è ottima? Indicare con chiarezza tutte le verifiche che sei stato chiamato a compiere (2 punti)"
   ]
  },
  {
   "cell_type": "raw",
   "metadata": {},
   "source": [
    "RICHIESTA 5:\n",
    "..."
   ]
  },
  {
   "cell_type": "markdown",
   "metadata": {},
   "source": [
    "### Esercizio 8 (3 punti) ###\n",
    "\n",
    "Si consideri il seguente problema di Programmazione Lineare:\n",
    "\n",
    "max $3x_1 + 4x_2 + 5 x_3$\n",
    "\n",
    "tale che:\n",
    "\n",
    "$2x_1 + 9x_2 \\le 12$\n",
    "\n",
    "$5x_1 + 7x_2 + 8x_3 \\le 24$\n",
    "\n",
    "$8x_1 + 12x_3 \\le 19$\n",
    "\n",
    "$x_1, x_2, x_3 \\ge 0$\n",
    "\n",
    "__Richieste__:\n",
    "1. Risolvere il problema sfruttando la libreria simplesso_interattivo.py (3 punti)"
   ]
  },
  {
   "cell_type": "code",
   "execution_count": 4,
   "metadata": {},
   "outputs": [],
   "source": [
    "# RICHIESTA 1\n",
    "t = s.Tableau(3,3,[3,4,5],'max')\n",
    "# etc."
   ]
  },
  {
   "cell_type": "markdown",
   "metadata": {},
   "source": [
    "## ALTRI ARGOMENTI? ##"
   ]
  },
  {
   "cell_type": "code",
   "execution_count": null,
   "metadata": {},
   "outputs": [],
   "source": []
  }
 ],
 "metadata": {
  "kernelspec": {
   "display_name": "Python 3",
   "language": "python",
   "name": "python3"
  },
  "language_info": {
   "codemirror_mode": {
    "name": "ipython",
    "version": 3
   },
   "file_extension": ".py",
   "mimetype": "text/x-python",
   "name": "python",
   "nbconvert_exporter": "python",
   "pygments_lexer": "ipython3",
   "version": "3.7.6"
  }
 },
 "nbformat": 4,
 "nbformat_minor": 4
}
