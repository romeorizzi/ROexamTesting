{
 "cells": [
  {
   "cell_type": "markdown",
   "metadata": {
    "deletable": false,
    "editable": false,
    "hide_input": true,
    "init_cell": true,
    "tags": [
     "run_start"
    ]
   },
   "source": [
    "# ESERCIZIO: Massima sottosequenza comune #\n"
   ]
  },
  {
   "cell_type": "code",
   "execution_count": null,
   "metadata": {
    "deletable": false,
    "editable": false,
    "hide_input": true,
    "init_cell": true,
    "tags": [
     "run_start",
     "noexport"
    ]
   },
   "outputs": [],
   "source": [
    "import os\n",
    "from IPython.core.display import display, HTML, Markdown, clear_output, Javascript\n",
    "import ipywidgets as widgets\n",
    "from IPython.display import IFrame, display\n",
    "import numpy as np\n"
   ]
  },
  {
   "cell_type": "code",
   "execution_count": null,
   "metadata": {
    "deletable": false,
    "editable": false,
    "hide_input": true,
    "init_cell": true,
    "tags": [
     "run_start",
     "noexport"
    ]
   },
   "outputs": [],
   "source": [
    "    n_tasks = 5;\n",
    "    arr_point = [-1] * n_tasks;"
   ]
  },
  {
   "cell_type": "code",
   "execution_count": null,
   "metadata": {
    "deletable": false,
    "editable": false,
    "hide_input": true,
    "init_cell": true,
    "tags": [
     "noexport"
    ]
   },
   "outputs": [],
   "source": [
    "    s = \"CCCCCAAACTATATATA\"\n",
    "    t = \"GTCACGTACGTACAAAA\"\n",
    "    "
   ]
  },
  {
   "cell_type": "code",
   "execution_count": null,
   "metadata": {
    "deletable": false,
    "editable": false,
    "hide_input": true,
    "init_cell": true,
    "tags": [
     "noexport"
    ]
   },
   "outputs": [],
   "source": [
    "    def is_sub(sub,string):\n",
    "        match=0\n",
    "        i=0\n",
    "        j=0\n",
    "        sol=True\n",
    "        while match<len(sub) and i<len(string):\n",
    "            if string[i]==sub[j]:\n",
    "                match+=1\n",
    "                if j<len(sub)-1:\n",
    "                    j+=1\n",
    "            i+=1\n",
    "        if match!=len(sub):\n",
    "            sol=False\n",
    "        return sol\n",
    "\n",
    "    def verifLCS(string1, string2, answer, pt_green, pt_red, index_pt, start=False, end=False):\n",
    "        if answer==\"\":\n",
    "            return evaluation_format(\"No\", 0, pt_red, index_pt)+f\"La sottosequenza fornita è vuota.\"\n",
    "        if start != False and answer[0]!=start:\n",
    "            return evaluation_format(\"No\", 0, pt_red, index_pt)+f\"La sottosequenza fornita non inizia con __{start}__.\"\n",
    "        if end != False and answer[len(answer)-1]!=end:\n",
    "            return evaluation_format(\"No\", 0, pt_red, index_pt)+f\"La sottosequenza fornita non termina con __{end}__.\"\n",
    "        s = ' ' + string1\n",
    "        t = ' ' + string2\n",
    "        n = len(s)\n",
    "        m = len(t)\n",
    "        L = np.zeros((n, m))\n",
    "        for i in range(1,n):\n",
    "            for j in range(1,m):\n",
    "                if s[i] == t[j]:\n",
    "                    L[i][j] = L[i-1][j-1] + 1\n",
    "                else:\n",
    "                    L[i][j] = max(L[i-1][j], L[i][j-1])\n",
    "        correct_len=np.max(L)\n",
    "        if (is_sub(answer,string1)) and (is_sub(answer,string2)) and len(answer)==correct_len:\n",
    "            return evaluation_format(\"Si\", pt_green, pt_red, index_pt)+\"La sottosequenza comune è corretta.\"\n",
    "        elif (is_sub(answer,string1)) and (is_sub(answer,string2)) and len(answer)!=correct_len:\n",
    "            return evaluation_format(\"No\", 1, pt_red, index_pt)+\"La sottosequenza comune non è massima.\"\n",
    "        #if (is_sub(answer,string1)) and (is_sub(answer,string2)):\n",
    "        #    return evaluation_format(\"Si\", pt_green, pt_red, index_pt)+\"La sottosequenza fornita è ammissibile.\"\n",
    "        else:\n",
    "            return evaluation_format(\"No\", 0, pt_red, index_pt)+\"La sottosequenza non è ammissibile.\"\n",
    "\n",
    "    def evaluation_format(answ, pt_green, pt_red, index_pt):\n",
    "        pt_blue=0\n",
    "        if pt_green!=0:\n",
    "            if answ == \"Si\":\n",
    "                pt_green=pt_red\n",
    "                pt_red=0\n",
    "                pt_blue=pt_green\n",
    "            else:\n",
    "                pt_blue=pt_red-pt_green\n",
    "                pt_red=0\n",
    "        arr_point[index_pt]=pt_green\n",
    "        file = open(\"points.txt\", \"w\")\n",
    "        file.write(str(arr_point))\n",
    "        file.close()\n",
    "        return f\"{answ}. Totalizzeresti <span style='color:green'>[{pt_green} safe pt]</span>,                                         <span style='color:blue'>[{pt_blue} possible pt]</span>,                                         <span style='color:red'>[{pt_red} out of reach pt]</span>.<br>\"\n",
    "\n",
    "    "
   ]
  },
  {
   "cell_type": "markdown",
   "metadata": {
    "deletable": false,
    "editable": false,
    "hide_input": true,
    "init_cell": true,
    "tags": []
   },
   "source": [
    "Si considerino le seguenti sequenze di caratteri:<br/><br/> $s$ = CCCCCAAACTATATATA<br/>  $t$ = GTCACGTACGTACAAAA"
   ]
  },
  {
   "cell_type": "markdown",
   "metadata": {
    "deletable": false,
    "editable": false,
    "hide_input": true,
    "init_cell": true,
    "tags": []
   },
   "source": [
    "__Richiesta 1 [10 punti]__: Trovare la massima sottosequenza comune tra le <b> due stringhe</b>:<br/>$s$ = CCCCCAAACTATATATA<br/>$t$ = GTCACGTACGTACAAAA."
   ]
  },
  {
   "cell_type": "code",
   "execution_count": null,
   "metadata": {
    "deletable": false,
    "init_cell": true
   },
   "outputs": [],
   "source": [
    "#Inserisci la risposta\n",
    "answer0=\"\""
   ]
  },
  {
   "cell_type": "code",
   "execution_count": null,
   "metadata": {
    "deletable": false,
    "editable": false,
    "hide_input": true,
    "init_cell": true
   },
   "outputs": [],
   "source": [
    "display(Markdown(verifLCS(s, t ,answer0,pt_green=1, pt_red=10, index_pt=0)))"
   ]
  },
  {
   "cell_type": "markdown",
   "metadata": {
    "deletable": false,
    "editable": false,
    "hide_input": true,
    "init_cell": true,
    "tags": []
   },
   "source": [
    "__Richiesta 2 [10 punti]__: Trovare la massima sottosequenza comune utilizzando: <br/><b>il prefisso</b>  $t'$ = GTCACGTAC <br/>$s$ = CCCCCAAACTATATATA."
   ]
  },
  {
   "cell_type": "code",
   "execution_count": null,
   "metadata": {
    "deletable": false,
    "init_cell": true
   },
   "outputs": [],
   "source": [
    "#Inserisci la risposta\n",
    "answer1=\"\""
   ]
  },
  {
   "cell_type": "code",
   "execution_count": null,
   "metadata": {
    "deletable": false,
    "editable": false,
    "hide_input": true,
    "init_cell": true
   },
   "outputs": [],
   "source": [
    "display(Markdown(verifLCS(s, 'GTCACGTAC' ,answer1,pt_green=1, pt_red=10,index_pt=1)))"
   ]
  },
  {
   "cell_type": "markdown",
   "metadata": {
    "deletable": false,
    "editable": false,
    "hide_input": true,
    "init_cell": true,
    "tags": []
   },
   "source": [
    "__Richiesta 3 [10 punti]__: Trovare la massima sottosequenza comune utilizzando:<br/><b>il suffisso </b> $s'$ = CTATATATA <br/>$t$ = GTCACGTACGTACAAAA."
   ]
  },
  {
   "cell_type": "code",
   "execution_count": null,
   "metadata": {
    "deletable": false,
    "init_cell": true
   },
   "outputs": [],
   "source": [
    "#Inserisci la risposta\n",
    "answer2=\"\""
   ]
  },
  {
   "cell_type": "code",
   "execution_count": null,
   "metadata": {
    "deletable": false,
    "editable": false,
    "hide_input": true,
    "init_cell": true
   },
   "outputs": [],
   "source": [
    "display(Markdown(verifLCS('CTATATATA', t ,answer2,pt_green=1, pt_red=10,index_pt=2)))"
   ]
  },
  {
   "cell_type": "markdown",
   "metadata": {
    "deletable": false,
    "editable": false,
    "hide_input": true,
    "init_cell": true,
    "tags": []
   },
   "source": [
    "__Richiesta 4 [10 punti]__: Trovare la massima sottosequenza comune tale che <b>inizi con la lettera </b> __T__ utilizzando:<br/>$s$ = CCCCCAAACTATATATA<br/>$t$ = GTCACGTACGTACAAAA."
   ]
  },
  {
   "cell_type": "code",
   "execution_count": null,
   "metadata": {
    "deletable": false,
    "init_cell": true
   },
   "outputs": [],
   "source": [
    "#Inserisci la risposta\n",
    "answer3=\"\""
   ]
  },
  {
   "cell_type": "code",
   "execution_count": null,
   "metadata": {
    "deletable": false,
    "editable": false,
    "hide_input": true,
    "init_cell": true
   },
   "outputs": [],
   "source": [
    "display(Markdown(verifLCS('T'+s.split('T',1)[1], 'T'+t.split('T',1)[1] ,answer3,pt_green=1, pt_red=10,index_pt=3,start='T')))"
   ]
  },
  {
   "cell_type": "markdown",
   "metadata": {
    "deletable": false,
    "editable": false,
    "hide_input": true,
    "init_cell": true,
    "tags": []
   },
   "source": [
    "__Richiesta 5 [10 punti]__: Trovare la massima sottosequenza comune tale che <b>finisca con la lettera </b> __C__ utilizzando:<br/>$s$ = CCCCCAAACTATATATA <br/>$t$ = GTCACGTACGTACAAAA."
   ]
  },
  {
   "cell_type": "code",
   "execution_count": null,
   "metadata": {
    "deletable": false,
    "init_cell": true
   },
   "outputs": [],
   "source": [
    "#Inserisci la risposta\n",
    "answer4=\"\""
   ]
  },
  {
   "cell_type": "code",
   "execution_count": null,
   "metadata": {
    "deletable": false,
    "editable": false,
    "hide_input": true,
    "init_cell": true
   },
   "outputs": [],
   "source": [
    "display(Markdown(verifLCS(s.rsplit('C',1)[0]+'C', t.rsplit('C',1)[0]+'C' ,answer4,pt_green=1, pt_red=10,index_pt=4,end='C')))"
   ]
  },
  {
   "cell_type": "code",
   "execution_count": null,
   "metadata": {
    "deletable": false,
    "editable": false,
    "hide_input": true,
    "init_cell": true,
    "tags": [
     "run_start",
     "noexport"
    ]
   },
   "outputs": [],
   "source": [
    "import os\n",
    "import time\n",
    "from urllib.request import urlopen\n",
    "import nbformat\n",
    "from traitlets.config import Config\n",
    "from nbconvert import HTMLExporter\n",
    "from nbconvert import RSTExporter, NotebookExporter\n",
    "from IPython.display import Image, HTML, Javascript\n",
    "from datetime import datetime\n",
    "\n",
    "import shutil\n",
    "last ='preview_last/' #path of last submission\n",
    "old = 'preview_old/' #path of prevous submissions\n",
    "\n",
    "#hide alert buttons\n",
    "def hide_w(w):\n",
    "    for e in w:\n",
    "        e.layout.visibility = 'hidden'\n",
    "\n",
    "#show alert buttons\n",
    "def show_w(w):\n",
    "    for e in w:\n",
    "        e.layout.visibility = 'visible'\n",
    "\n",
    "def are_you_sure():\n",
    "    show_w(alert_buttons)\n",
    "\n",
    "label = widgets.Label(value=\"Un tuo elaborato era già stato precedentemente prodotto. Vuoi rimpiazzarlo con il presente?\")\n",
    "yes = widgets.Button(description=\"Si\", tooltip=\"Produce il nuovo elaborato. Esso diviene la versione attuale prendendo il posto del precedente\")\n",
    "no = widgets.Button(description=\"No\")\n",
    "\n",
    "alert_buttons = [label,yes,no]\n",
    "hide_w(alert_buttons)\n",
    "\n",
    "#move all files from last to old and save the new preview\n",
    "def yes_clicked(b):\n",
    "    files = os.listdir(last)\n",
    "    for f in files:\n",
    "        if f == '.ipynb_checkpoints':\n",
    "            continue\n",
    "        if not os.path.isdir('./preview_old'):\n",
    "            os.mkdir(old)\n",
    "        shutil.move(last+f, old)\n",
    "    display(Javascript('IPython.notebook.save_checkpoint();'))\n",
    "    now = datetime.now() # current date and time\n",
    "    date_time = now.strftime(\"%Y-%m-%d-%H-%M-%S\")\n",
    "    hname = 'Esercizio_01.ipynb'[:-6] + '_' + date_time\n",
    "    ! jupyter nbconvert Esercizio_01.ipynb --to html_embed --output=$hname --output-dir=./preview_last/ --TagRemovePreprocessor.remove_cell_tags='[\"noexport\"]'\n",
    "    display(Javascript('window.open(\"./preview_last/' + hname + '.html\")'))\n",
    "    hide_w(alert_buttons)\n",
    "def no_clicked(b):\n",
    "    hide_w(alert_buttons)\n",
    "\n",
    "\n",
    "def generate_preview_HTML(_):\n",
    "    if not os.path.isdir('./preview_last'):\n",
    "        os.mkdir(last)\n",
    "    directory= os.listdir(last)\n",
    "    if len(directory) <1:\n",
    "        display(Javascript('IPython.notebook.save_checkpoint();'))\n",
    "        now = datetime.now() # current date and time\n",
    "        date_time = now.strftime(\"%Y-%m-%d-%H-%M-%S\")\n",
    "        hname = 'Esercizio_01.ipynb'[:-6] + '_' + date_time\n",
    "        ! jupyter nbconvert Esercizio_01.ipynb --to html_embed --output=$hname --output-dir=./preview_last/ --TagRemovePreprocessor.remove_cell_tags='[\"noexport\"]'\n",
    "        display(Javascript('window.open(\"./preview_last/' + hname + '.html\")'))\n",
    "    else:\n",
    "        are_you_sure()\n",
    "\n",
    "\n",
    "button = widgets.Button(description=\"Salva & Esporta\", tooltip=\"Esporta il foglio Jupyter in HTML nella cartella preview\")\n",
    "output = widgets.Output()\n",
    "button.on_click(generate_preview_HTML)\n",
    "yes.on_click(yes_clicked)\n",
    "no.on_click(no_clicked)\n",
    "h_box1 = widgets.HBox([button])\n",
    "h_box2 = widgets.HBox([label,yes,no])\n",
    "display(widgets.VBox([h_box1,h_box2]))\n"
   ]
  }
 ],
 "metadata": {},
 "nbformat": 4,
 "nbformat_minor": 4
}
