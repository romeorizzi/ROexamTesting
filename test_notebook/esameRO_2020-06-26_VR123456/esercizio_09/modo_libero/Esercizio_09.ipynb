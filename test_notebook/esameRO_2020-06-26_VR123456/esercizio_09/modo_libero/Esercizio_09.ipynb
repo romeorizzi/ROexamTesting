{
 "cells": [
  {
   "cell_type": "code",
   "execution_count": null,
   "metadata": {},
   "outputs": [],
   "source": [
    "import os\n",
    "from IPython.core.display import display, HTML, Markdown, clear_output, Javascript\n",
    "import ipywidgets as widgets\n",
    "from IPython.display import IFrame, display\n",
    "HTML('''<button id=\"do_run_all\">Avvio esercizio</button>\n",
    "<script type=\"text/javascript\">\n",
    "    var button = document.getElementById('do_run_all')\n",
    "    button.addEventListener('click',hideshow,false);\n",
    "\n",
    "    function hideshow() {\n",
    "        $(\"#run_all_cells\").click();\n",
    "    }   \n",
    "</script>''')\n"
   ]
  },
  {
   "cell_type": "code",
   "execution_count": null,
   "metadata": {
    "deletable": false,
    "editable": false
   },
   "outputs": [],
   "source": [
    "display(Javascript('''var c = Jupyter.notebook.delete_cell();'''))\n"
   ]
  },
  {
   "cell_type": "code",
   "execution_count": null,
   "metadata": {
    "deletable": false,
    "editable": false
   },
   "outputs": [],
   "source": [
    "HTML('''<script>\n",
    "code_show=true;\n",
    "function code_toggle() {\n",
    " if (code_show){\n",
    " $('div.input').hide();\n",
    " } else {\n",
    " $('div.input').show();\n",
    " }\n",
    " code_show = !code_show\n",
    "}\n",
    "$( document ).ready(code_toggle);\n",
    "</script>''')\n"
   ]
  },
  {
   "cell_type": "code",
   "execution_count": null,
   "metadata": {
    "deletable": false,
    "editable": false
   },
   "outputs": [],
   "source": [
    "import os\n",
    "from IPython.core.display import display, HTML, Markdown, clear_output, Javascript\n",
    "import ipywidgets as widgets\n",
    "from IPython.display import IFrame, display\n",
    "\n",
    "def hide_code_fun():\n",
    "    display(HTML('''<script>$('div.input').hide();</script>'''))\n",
    "\n",
    "def on_change(change): # si attiva quando cambio scelta dell'elemento da selezionare\n",
    "    global attach\n",
    "    if change['type'] == 'change' and change['name'] == 'value':\n",
    "        #print (\"Stai scegliendo %s\" % change['new'])\n",
    "        attach = change['new']\n",
    "        return attach\n",
    "\n",
    "def on_button_update(_):\n",
    "    clear_output()\n",
    "    #display(Javascript('''var c = Jupyter.notebook.get_selected_index();\n",
    "                       #IPython.notebook.execute_cells([c])'''))\n",
    "    add_raw_attachment()\n",
    "\n",
    "def open_attachment(attach_name):\n",
    "    path_attachments = \"allegati\"\n",
    "    path_file=str(path_attachments + \"/\" + attach_name)\n",
    "    ext = os.path.splitext(path_file)[-1].lower()\n",
    "    #print(path_file)\n",
    "    #print(ext)\n",
    "    #print(ext.replace('.', ''))\n",
    "    if(ext=='.pdf'):\n",
    "        pdf=IFrame(path_file, width=700, height=400)\n",
    "        display(pdf)\n",
    "    else:\n",
    "        file = open(path_file, \"rb\")\n",
    "        image = file.read()\n",
    "        w=widgets.Image(\n",
    "            value=image,\n",
    "            format=ext.replace('.', ''),\n",
    "            width=300,\n",
    "            height=400,\n",
    "        )\n",
    "        display(w)\n",
    "\n",
    "def on_button_confirm(_):\n",
    "    global attach\n",
    "    clear_output()\n",
    "    print('Allegato: ' + str(attach))\n",
    "    open_attachment(attach)\n",
    "\n",
    "def add_raw_attachment():\n",
    "    path_attachments = \"allegati\"\n",
    "    global attach # allegato attuale scelto\n",
    "    update = widgets.Button(description='Aggiorna') #bottone visualizzato in ogni caso\n",
    "    attach_list = os.listdir(path_attachments)\n",
    "\n",
    "    if(attach_list): #si attiva se c'è almeno un elemento in lista quindi nella cartella allegati\n",
    "        confirm = widgets.Button(description='Conferma')\n",
    "        chosen_attach_wid = widgets.Dropdown(\n",
    "            options = attach_list,\n",
    "            value = attach_list[0],\n",
    "            description = 'Allegati:',\n",
    "            disabled = False,\n",
    "        )\n",
    "        attach = attach_list[0]\n",
    "        chosen_attach_wid.observe(on_change)\n",
    "        update.on_click(on_button_update)\n",
    "        confirm.on_click(on_button_confirm)\n",
    "        all_buttons = [update, chosen_attach_wid, confirm]\n",
    "        display(widgets.HBox(all_buttons))\n",
    "    else:\n",
    "        print(\"ATTENZIONE: non sono presenti file nella cartella allegati\")\n",
    "        update.on_click(on_button_update)\n",
    "        display(update)\n",
    "\n",
    "def on_button_delete(_):\n",
    "    delete_above_cell()\n",
    "    delete_this_cell()\n",
    "\n",
    "def delete_above_cell():\n",
    "    display(Javascript('''var c = Jupyter.notebook.get_selected_index();\n",
    "                                IPython.notebook.get_cell(c-1).metadata.editable = true\n",
    "                                IPython.notebook.delete_cell([c-1])'''))\n",
    "def delete_this_cell():\n",
    "    display(Javascript('''var c = Jupyter.notebook.delete_cell();'''))\n",
    "\n",
    "def on_button_raw_attach(_):\n",
    "    add_code_cell_din('code_button_delete()')\n",
    "    add_attach_cell_din('add_raw_attachment()')\n",
    "\n",
    "def on_button_md(_):\n",
    "    add_code_cell_din('code_button_delete()')\n",
    "    add_md_cell_din()\n",
    "\n",
    "def on_button_code(_):\n",
    "    add_code_cell_din('code_button_delete()')\n",
    "    add_code_cell_din()\n",
    "\n",
    "def on_button_raw(_):\n",
    "    add_code_cell_din('code_button_delete()')\n",
    "    add_raw_cell_din()\n",
    "\n",
    "def add_raw_cell_din():\n",
    "    display(Javascript('''var c = Jupyter.notebook.insert_cell_above();\n",
    "    c.set_text('');\n",
    "    var t_index = IPython.notebook.get_cells().indexOf(c);\n",
    "    IPython.notebook.to_raw(t_index);\n",
    "    IPython.notebook.get_cell(t_index).render();\n",
    "    IPython.notebook.execute_cells([t_index]);'''))\n",
    "    return\n",
    "\n",
    "def add_attach_cell_din(code = ''):\n",
    "    display(Javascript('''var c = Jupyter.notebook.insert_cell_above();\n",
    "    c.set_text(' ''' + code + ''' ');\n",
    "    var t_index = IPython.notebook.get_cells().indexOf(c);\n",
    "    IPython.notebook.to_code(t_index);\n",
    "    IPython.notebook.get_cell(t_index).render();\n",
    "    IPython.notebook.execute_cells([t_index]);\n",
    "    IPython.notebook.get_cell(t_index).metadata.editable = false\n",
    "    IPython.notebook.get_cell(t_index).set_text('');'''))\n",
    "    return\n",
    "\n",
    "def add_code_cell_din(code = ''):\n",
    "    display(Javascript('''var c = Jupyter.notebook.insert_cell_above();\n",
    "    c.set_text(' ''' + code + ''' ');\n",
    "    var t_index = IPython.notebook.get_cells().indexOf(c);\n",
    "    IPython.notebook.to_code(t_index);\n",
    "    IPython.notebook.get_cell(t_index).render();\n",
    "    IPython.notebook.execute_cells([t_index]);\n",
    "    IPython.notebook.get_cell(t_index).set_text('');'''))\n",
    "    return\n",
    "\n",
    "def add_md_cell_din2(att): # non attivabile al momento\n",
    "    s_all = '### Hai allegato il file ' + att + ' alla richiesta '\n",
    "    if '.png' in att or '.gif' in att:\n",
    "        s_all += '<br><img src=\\\"' + path + '/' + att + '\\\" width=500 >'\n",
    "    display(Javascript('''var c = Jupyter.notebook.insert_cell_below();\n",
    "        c.set_text(' ''' + s_all + ''' ');\n",
    "        var t_index = IPython.notebook.get_cells().indexOf(c);\n",
    "        IPython.notebook.to_markdown(t_index);\n",
    "        IPython.notebook.get_cell(t_index).render();\n",
    "        IPython.notebook.execute_cells([t_index]);\n",
    "        IPython.notebook.get_cell(t_index).set_text('');'''))\n",
    "    return\n",
    "\n",
    "def add_md_cell_din():\n",
    "    display(Javascript('''var c = Jupyter.notebook.insert_cell_above();\n",
    "    c.set_text(' ');\n",
    "    var t_index = IPython.notebook.get_cells().indexOf(c);\n",
    "    IPython.notebook.to_markdown(t_index);\n",
    "    IPython.notebook.get_cell(t_index).render();\n",
    "    IPython.notebook.execute_cells([t_index]);'''))\n",
    "    return\n",
    "\n",
    "def code_button_delete():\n",
    "    button_delete = widgets.Button(description=\"Elimina\", tooltip=\"Seleziona la cella e clicca su Elimina\")\n",
    "    button_delete.on_click(on_button_delete)\n",
    "    print(\"Vuoi eliminare la cella selezionata?\")\n",
    "    display(button_delete)\n",
    "\n",
    "def loader_main():\n",
    "    button_raw_attach = widgets.Button(description=\"Rispondi (Allegato)\", tooltip=\"Collega un file dalla cartella attachments\")\n",
    "    button_md = widgets.Button(description=\"Rispondi (Markdown)\", abstooltip=\"Aggiungi una cella per scrivere del testo in Markdown\")\n",
    "    button_code = widgets.Button(description=\"Rispondi (Code)\", tooltip=\"Aggiungi una cella per scrivere del codice in Python\")\n",
    "    button_raw = widgets.Button(description=\"Rispondi (Raw)\", tooltip=\"Aggiungi una cella per scrivere del testo libero (SCONSIGLIATA)\")\n",
    "    button_raw_attach.on_click(on_button_raw_attach)\n",
    "    button_md.on_click(on_button_md)\n",
    "    button_code.on_click(on_button_code)\n",
    "    button_raw.on_click(on_button_raw)\n",
    "\n",
    "    all_buttons = [button_code, button_md, button_raw, button_raw_attach]\n",
    "    display(widgets.HBox(all_buttons))\n"
   ]
  },
  {
   "cell_type": "markdown",
   "metadata": {
    "deletable": false,
    "editable": false
   },
   "source": [
    "# ESERCIZIO: Programmazione lineare - Modellizzazione #\n"
   ]
  },
  {
   "cell_type": "markdown",
   "metadata": {
    "deletable": false,
    "editable": false
   },
   "source": [
    "# TE 28/07/2016\n",
    "<img src=\"img/20160728-es1.png\" width=\"700\">"
   ]
  },
  {
   "cell_type": "markdown",
   "metadata": {
    "deletable": false,
    "editable": false
   },
   "source": [
    "__Richiesta 1 \\[50 punti\\]__: Formulando il problema come problema di Programmazione Lineare, motivando le scelte compiute"
   ]
  },
  {
   "cell_type": "code",
   "execution_count": null,
   "metadata": {
    "deletable": false,
    "editable": false
   },
   "outputs": [],
   "source": [
    "loader_main()\n"
   ]
  },
  {
   "cell_type": "markdown",
   "metadata": {
    "deletable": false,
    "editable": false
   },
   "source": [
    "__Richiesta 2 \\[50 punti\\]__: Risolvere il problema sfruttando la libreria Pulp"
   ]
  },
  {
   "cell_type": "code",
   "execution_count": null,
   "metadata": {
    "deletable": false,
    "editable": false
   },
   "outputs": [],
   "source": [
    "loader_main()\n"
   ]
  },
  {
   "cell_type": "markdown",
   "metadata": {
    "deletable": false,
    "editable": false
   },
   "source": [
    "### Documentazione sulla libreria Pulp ###\n",
    "__Nota__: la libreria è già automaticamente caricata in questo foglio tramite il comando _import pulp as p_.\n",
    "\n",
    "__Metodi disponibili__:\n",
    "- probLp = p.LpProblem(prob\\_name, obj): definisce un nuovo problema di Programmazione Lineare _probLp_ , dandogli il nome _prob\\_name_ e impostando l'obiettivo _obj_ (che può essere p.LpMinimize o p.LpMaximize);\n",
    "- p.LpVariable(var\\_name): aggiunge una variabile di nome _var\\_name_ al problema; questo metodo ha vari parametri opzionali che possono aggiungersi (e.g., lowBound, upBound, cat);\n",
    "- probLp += expression: aggiunge un vincolo o la funzione obiettivo, rappresentati da _expression_ , al problema _probLp_ ;\n",
    "- status = probLp.solve(): risolve il problema _probLp_ , ritornando informazioni sullo _status_ ;\n",
    "- p.value(var\\_name): ritorna il valore della variabile _var\\_name_ .\n",
    "\n",
    "\n",
    "Per maggiori informazioni, consultare la [documentazione ufficiale](https://www.coin-or.org/PuLP/pulp.html).\n"
   ]
  },
  {
   "cell_type": "code",
   "execution_count": null,
   "metadata": {
    "deletable": false,
    "editable": false
   },
   "outputs": [],
   "source": [
    "import pulp as p\n"
   ]
  }
 ],
 "metadata": {},
 "nbformat": 4,
 "nbformat_minor": 4
}
