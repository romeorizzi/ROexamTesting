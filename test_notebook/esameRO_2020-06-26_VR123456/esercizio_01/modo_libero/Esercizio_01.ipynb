{
 "cells": [
  {
   "cell_type": "code",
   "execution_count": 15,
   "metadata": {
    "deletable": false,
    "editable": false
   },
   "outputs": [
    {
     "data": {
      "application/javascript": [
       "var c = Jupyter.notebook.delete_cell();"
      ],
      "text/plain": [
       "<IPython.core.display.Javascript object>"
      ]
     },
     "metadata": {},
     "output_type": "display_data"
    }
   ],
   "source": [
    "display(Javascript('''var c = Jupyter.notebook.delete_cell();'''))\n"
   ]
  },
  {
   "cell_type": "code",
   "execution_count": 16,
   "metadata": {
    "deletable": false,
    "editable": false
   },
   "outputs": [
    {
     "data": {
      "text/html": [
       "<script>\n",
       "code_show=true;\n",
       "function code_toggle() {\n",
       " if (code_show){\n",
       " $('div.input').hide();\n",
       " } else {\n",
       " $('div.input').show();\n",
       " }\n",
       " code_show = !code_show\n",
       "}\n",
       "$( document ).ready(code_toggle);\n",
       "</script>"
      ],
      "text/plain": [
       "<IPython.core.display.HTML object>"
      ]
     },
     "execution_count": 16,
     "metadata": {},
     "output_type": "execute_result"
    }
   ],
   "source": [
    "HTML('''<script>\n",
    "code_show=true;\n",
    "function code_toggle() {\n",
    " if (code_show){\n",
    " $('div.input').hide();\n",
    " } else {\n",
    " $('div.input').show();\n",
    " }\n",
    " code_show = !code_show\n",
    "}\n",
    "$( document ).ready(code_toggle);\n",
    "</script>''')\n"
   ]
  },
  {
   "cell_type": "code",
   "execution_count": 17,
   "metadata": {
    "deletable": false,
    "editable": false
   },
   "outputs": [],
   "source": [
    "import os\n",
    "from IPython.core.display import display, HTML, Markdown, clear_output, Javascript\n",
    "import ipywidgets as widgets\n",
    "from IPython.display import IFrame, display\n",
    "\n",
    "def hide_code_fun():\n",
    "    display(HTML('''<script>$('div.input').hide();</script>'''))\n",
    "\n",
    "def on_change(change): # si attiva quando cambio scelta dell'elemento da selezionare\n",
    "    global attach\n",
    "    if change['type'] == 'change' and change['name'] == 'value':\n",
    "        #print (\"Stai scegliendo %s\" % change['new'])\n",
    "        attach = change['new']\n",
    "        return attach\n",
    "\n",
    "def on_button_update(_):\n",
    "    clear_output()\n",
    "    #display(Javascript('''var c = Jupyter.notebook.get_selected_index();\n",
    "                       #IPython.notebook.execute_cells([c])'''))\n",
    "    add_raw_attachment()\n",
    "\n",
    "def open_attachment(attach_name):\n",
    "    path_attachments = \"allegati\"\n",
    "    path_file=str(path_attachments + \"/\" + attach_name)\n",
    "    ext = os.path.splitext(path_file)[-1].lower()\n",
    "    #print(path_file)\n",
    "    #print(ext)\n",
    "    #print(ext.replace('.', ''))\n",
    "    if(ext=='.pdf'):\n",
    "        pdf=IFrame(path_file, width=700, height=400)\n",
    "        display(pdf)\n",
    "    else:\n",
    "        file = open(path_file, \"rb\")\n",
    "        image = file.read()\n",
    "        w=widgets.Image(\n",
    "            value=image,\n",
    "            format=ext.replace('.', ''),\n",
    "            width=300,\n",
    "            height=400,\n",
    "        )\n",
    "        display(w)\n",
    "\n",
    "def on_button_confirm(_):\n",
    "    global attach\n",
    "    clear_output()\n",
    "    print('Allegato: ' + str(attach))\n",
    "    open_attachment(attach)\n",
    "\n",
    "def add_raw_attachment():\n",
    "    path_attachments = \"allegati\"\n",
    "    global attach # allegato attuale scelto\n",
    "    update = widgets.Button(description='Aggiorna') #bottone visualizzato in ogni caso\n",
    "    attach_list = os.listdir(path_attachments)\n",
    "\n",
    "    if(attach_list): #si attiva se c'è almeno un elemento in lista quindi nella cartella allegati\n",
    "        confirm = widgets.Button(description='Conferma')\n",
    "        chosen_attach_wid = widgets.Dropdown(\n",
    "            options = attach_list,\n",
    "            value = attach_list[0],\n",
    "            description = 'Allegati:',\n",
    "            disabled = False,\n",
    "        )\n",
    "        attach = attach_list[0]\n",
    "        chosen_attach_wid.observe(on_change)\n",
    "        update.on_click(on_button_update)\n",
    "        confirm.on_click(on_button_confirm)\n",
    "        all_buttons = [update, chosen_attach_wid, confirm]\n",
    "        display(widgets.HBox(all_buttons))\n",
    "    else:\n",
    "        print(\"ATTENZIONE: non sono presenti file nella cartella allegati\")\n",
    "        update.on_click(on_button_update)\n",
    "        display(update)\n",
    "\n",
    "def on_button_delete(_):\n",
    "    delete_above_cell()\n",
    "    delete_this_cell()\n",
    "\n",
    "def delete_above_cell():\n",
    "    display(Javascript('''var c = Jupyter.notebook.get_selected_index();\n",
    "                                IPython.notebook.get_cell(c-1).metadata.editable = true\n",
    "                                IPython.notebook.delete_cell([c-1])'''))\n",
    "def delete_this_cell():\n",
    "    display(Javascript('''var c = Jupyter.notebook.delete_cell();'''))\n",
    "\n",
    "def on_button_raw_attach(_):\n",
    "    add_code_cell_din('code_button_delete()')\n",
    "    add_attach_cell_din('add_raw_attachment()')\n",
    "\n",
    "def on_button_md(_):\n",
    "    add_code_cell_din('code_button_delete()')\n",
    "    add_md_cell_din()\n",
    "\n",
    "def on_button_code(_):\n",
    "    add_code_cell_din('code_button_delete()')\n",
    "    add_code_cell_din()\n",
    "\n",
    "def on_button_raw(_):\n",
    "    add_code_cell_din('code_button_delete()')\n",
    "    add_raw_cell_din()\n",
    "\n",
    "def add_raw_cell_din():\n",
    "    display(Javascript('''var c = Jupyter.notebook.insert_cell_above();\n",
    "    c.set_text('');\n",
    "    var t_index = IPython.notebook.get_cells().indexOf(c);\n",
    "    IPython.notebook.to_raw(t_index);\n",
    "    IPython.notebook.get_cell(t_index).render();\n",
    "    IPython.notebook.execute_cells([t_index]);'''))\n",
    "    return\n",
    "\n",
    "def add_attach_cell_din(code = ''):\n",
    "    display(Javascript('''var c = Jupyter.notebook.insert_cell_above();\n",
    "    c.set_text(' ''' + code + ''' ');\n",
    "    var t_index = IPython.notebook.get_cells().indexOf(c);\n",
    "    IPython.notebook.to_code(t_index);\n",
    "    IPython.notebook.get_cell(t_index).render();\n",
    "    IPython.notebook.execute_cells([t_index]);\n",
    "    IPython.notebook.get_cell(t_index).metadata.editable = false\n",
    "    IPython.notebook.get_cell(t_index).set_text('');'''))\n",
    "    return\n",
    "\n",
    "def add_code_cell_din(code = ''):\n",
    "    display(Javascript('''var c = Jupyter.notebook.insert_cell_above();\n",
    "    c.set_text(' ''' + code + ''' ');\n",
    "    var t_index = IPython.notebook.get_cells().indexOf(c);\n",
    "    IPython.notebook.to_code(t_index);\n",
    "    IPython.notebook.get_cell(t_index).render();\n",
    "    IPython.notebook.execute_cells([t_index]);\n",
    "    IPython.notebook.get_cell(t_index).set_text('');'''))\n",
    "    return\n",
    "\n",
    "def add_md_cell_din2(att): # non attivabile al momento\n",
    "    s_all = '### Hai allegato il file ' + att + ' alla richiesta '\n",
    "    if '.png' in att or '.gif' in att:\n",
    "        s_all += '<br><img src=\\\"' + path + '/' + att + '\\\" width=500 >'\n",
    "    display(Javascript('''var c = Jupyter.notebook.insert_cell_below();\n",
    "        c.set_text(' ''' + s_all + ''' ');\n",
    "        var t_index = IPython.notebook.get_cells().indexOf(c);\n",
    "        IPython.notebook.to_markdown(t_index);\n",
    "        IPython.notebook.get_cell(t_index).render();\n",
    "        IPython.notebook.execute_cells([t_index]);\n",
    "        IPython.notebook.get_cell(t_index).set_text('');'''))\n",
    "    return\n",
    "\n",
    "def add_md_cell_din():\n",
    "    display(Javascript('''var c = Jupyter.notebook.insert_cell_above();\n",
    "    c.set_text(' ');\n",
    "    var t_index = IPython.notebook.get_cells().indexOf(c);\n",
    "    IPython.notebook.to_markdown(t_index);\n",
    "    IPython.notebook.get_cell(t_index).render();\n",
    "    IPython.notebook.execute_cells([t_index]);'''))\n",
    "    return\n",
    "\n",
    "def code_button_delete():\n",
    "    button_delete = widgets.Button(description=\"Elimina\", tooltip=\"Seleziona la cella e clicca su Elimina\")\n",
    "    button_delete.on_click(on_button_delete)\n",
    "    print(\"Vuoi eliminare la cella selezionata?\")\n",
    "    display(button_delete)\n",
    "\n",
    "def loader_main():\n",
    "    button_raw_attach = widgets.Button(description=\"Rispondi (Allegato)\", tooltip=\"Collega un file dalla cartella attachments\")\n",
    "    button_md = widgets.Button(description=\"Rispondi (Markdown)\", abstooltip=\"Aggiungi una cella per scrivere del testo in Markdown\")\n",
    "    button_code = widgets.Button(description=\"Rispondi (Code)\", tooltip=\"Aggiungi una cella per scrivere del codice in Python\")\n",
    "    button_raw = widgets.Button(description=\"Rispondi (Raw)\", tooltip=\"Aggiungi una cella per scrivere del testo libero (SCONSIGLIATA)\")\n",
    "    button_raw_attach.on_click(on_button_raw_attach)\n",
    "    button_md.on_click(on_button_md)\n",
    "    button_code.on_click(on_button_code)\n",
    "    button_raw.on_click(on_button_raw)\n",
    "\n",
    "    all_buttons = [button_code, button_md, button_raw, button_raw_attach]\n",
    "    display(widgets.HBox(all_buttons))\n"
   ]
  },
  {
   "cell_type": "markdown",
   "metadata": {
    "deletable": false,
    "editable": false
   },
   "source": [
    "# ESERCIZIO: Programmazione lineare - Metodo delle due fasi #\n"
   ]
  },
  {
   "cell_type": "markdown",
   "metadata": {
    "deletable": false,
    "editable": false
   },
   "source": [
    "Si consideri il seguente problema di Programmazione Lineare:<br>max $6x_1 - 5x_2 - 3x_3 - 4x_4$<br>tale che:<br>$4x_1 + 5x_2 - 3x_3 + x4 \\le 5$<br>$2x_1 - 5x_2 + x3 - x4 \\le -5$<br>$2x_1 - x_2 + 2x_3 - x_4 \\le 4$<br>$x_1, x_2, x_3, x_4 \\ge 0$"
   ]
  },
  {
   "cell_type": "markdown",
   "metadata": {
    "deletable": false,
    "editable": false
   },
   "source": [
    "__Richiesta 1 \\[10 punti\\]__: Impostare il problema ausiliario"
   ]
  },
  {
   "cell_type": "code",
   "execution_count": 18,
   "metadata": {
    "deletable": false,
    "editable": false
   },
   "outputs": [
    {
     "data": {
      "application/vnd.jupyter.widget-view+json": {
       "model_id": "28c199eaffb94e7e9ce51b78002ee5a0",
       "version_major": 2,
       "version_minor": 0
      },
      "text/plain": [
       "HBox(children=(Button(description='Rispondi (Code)', style=ButtonStyle(), tooltip='Aggiungi una cella per scri…"
      ]
     },
     "metadata": {},
     "output_type": "display_data"
    },
    {
     "data": {
      "application/javascript": [
       "var c = Jupyter.notebook.insert_cell_above();\n",
       "    c.set_text(' code_button_delete() ');\n",
       "    var t_index = IPython.notebook.get_cells().indexOf(c);\n",
       "    IPython.notebook.to_code(t_index);\n",
       "    IPython.notebook.get_cell(t_index).render();\n",
       "    IPython.notebook.execute_cells([t_index]);\n",
       "    IPython.notebook.get_cell(t_index).set_text('');"
      ],
      "text/plain": [
       "<IPython.core.display.Javascript object>"
      ]
     },
     "metadata": {},
     "output_type": "display_data"
    },
    {
     "data": {
      "application/javascript": [
       "var c = Jupyter.notebook.insert_cell_above();\n",
       "    c.set_text(' add_raw_attachment() ');\n",
       "    var t_index = IPython.notebook.get_cells().indexOf(c);\n",
       "    IPython.notebook.to_code(t_index);\n",
       "    IPython.notebook.get_cell(t_index).render();\n",
       "    IPython.notebook.execute_cells([t_index]);\n",
       "    IPython.notebook.get_cell(t_index).metadata.editable = false\n",
       "    IPython.notebook.get_cell(t_index).set_text('');"
      ],
      "text/plain": [
       "<IPython.core.display.Javascript object>"
      ]
     },
     "metadata": {},
     "output_type": "display_data"
    }
   ],
   "source": [
    "loader_main()\n"
   ]
  },
  {
   "cell_type": "markdown",
   "metadata": {
    "deletable": false,
    "editable": false
   },
   "source": [
    "__Richiesta 2 \\[30 punti\\]__: Risolvere il problema ausiliario per ottenere una soluzione ammissibile di base al problema originario"
   ]
  },
  {
   "cell_type": "code",
   "execution_count": 19,
   "metadata": {
    "deletable": false,
    "editable": false
   },
   "outputs": [
    {
     "data": {
      "application/vnd.jupyter.widget-view+json": {
       "model_id": "0cf58b7fc9c04e8595d242c162fc314f",
       "version_major": 2,
       "version_minor": 0
      },
      "text/plain": [
       "HBox(children=(Button(description='Rispondi (Code)', style=ButtonStyle(), tooltip='Aggiungi una cella per scri…"
      ]
     },
     "metadata": {},
     "output_type": "display_data"
    },
    {
     "data": {
      "application/javascript": [
       "var c = Jupyter.notebook.insert_cell_above();\n",
       "    c.set_text(' code_button_delete() ');\n",
       "    var t_index = IPython.notebook.get_cells().indexOf(c);\n",
       "    IPython.notebook.to_code(t_index);\n",
       "    IPython.notebook.get_cell(t_index).render();\n",
       "    IPython.notebook.execute_cells([t_index]);\n",
       "    IPython.notebook.get_cell(t_index).set_text('');"
      ],
      "text/plain": [
       "<IPython.core.display.Javascript object>"
      ]
     },
     "metadata": {},
     "output_type": "display_data"
    },
    {
     "data": {
      "application/javascript": [
       "var c = Jupyter.notebook.insert_cell_above();\n",
       "    c.set_text(' add_raw_attachment() ');\n",
       "    var t_index = IPython.notebook.get_cells().indexOf(c);\n",
       "    IPython.notebook.to_code(t_index);\n",
       "    IPython.notebook.get_cell(t_index).render();\n",
       "    IPython.notebook.execute_cells([t_index]);\n",
       "    IPython.notebook.get_cell(t_index).metadata.editable = false\n",
       "    IPython.notebook.get_cell(t_index).set_text('');"
      ],
      "text/plain": [
       "<IPython.core.display.Javascript object>"
      ]
     },
     "metadata": {},
     "output_type": "display_data"
    },
    {
     "data": {
      "application/javascript": [
       "var c = Jupyter.notebook.insert_cell_above();\n",
       "    c.set_text(' code_button_delete() ');\n",
       "    var t_index = IPython.notebook.get_cells().indexOf(c);\n",
       "    IPython.notebook.to_code(t_index);\n",
       "    IPython.notebook.get_cell(t_index).render();\n",
       "    IPython.notebook.execute_cells([t_index]);\n",
       "    IPython.notebook.get_cell(t_index).set_text('');"
      ],
      "text/plain": [
       "<IPython.core.display.Javascript object>"
      ]
     },
     "metadata": {},
     "output_type": "display_data"
    },
    {
     "data": {
      "application/javascript": [
       "var c = Jupyter.notebook.insert_cell_above();\n",
       "    c.set_text('  ');\n",
       "    var t_index = IPython.notebook.get_cells().indexOf(c);\n",
       "    IPython.notebook.to_code(t_index);\n",
       "    IPython.notebook.get_cell(t_index).render();\n",
       "    IPython.notebook.execute_cells([t_index]);\n",
       "    IPython.notebook.get_cell(t_index).set_text('');"
      ],
      "text/plain": [
       "<IPython.core.display.Javascript object>"
      ]
     },
     "metadata": {},
     "output_type": "display_data"
    }
   ],
   "source": [
    "loader_main()\n"
   ]
  },
  {
   "cell_type": "markdown",
   "metadata": {
    "deletable": false,
    "editable": false
   },
   "source": [
    "__Richiesta 3 \\[10 punti\\]__: Dalla soluzione ottima del problema ausiliario, ricavare un tableau che esprima una soluzione di base ammissibile per il problema originario"
   ]
  },
  {
   "cell_type": "code",
   "execution_count": 20,
   "metadata": {
    "deletable": false,
    "editable": false
   },
   "outputs": [
    {
     "data": {
      "application/vnd.jupyter.widget-view+json": {
       "model_id": "77be843c19f7497b9ce8aca717f2a561",
       "version_major": 2,
       "version_minor": 0
      },
      "text/plain": [
       "HBox(children=(Button(description='Rispondi (Code)', style=ButtonStyle(), tooltip='Aggiungi una cella per scri…"
      ]
     },
     "metadata": {},
     "output_type": "display_data"
    }
   ],
   "source": [
    "loader_main()\n"
   ]
  },
  {
   "cell_type": "markdown",
   "metadata": {
    "deletable": false,
    "editable": false
   },
   "source": [
    "__Richiesta 4 \\[30 punti\\]__: Risolvere il problema originario all'ottimo"
   ]
  },
  {
   "cell_type": "code",
   "execution_count": 21,
   "metadata": {
    "deletable": false,
    "editable": false
   },
   "outputs": [
    {
     "data": {
      "application/vnd.jupyter.widget-view+json": {
       "model_id": "0c3e080c060c4bf8bed5fe89bb182684",
       "version_major": 2,
       "version_minor": 0
      },
      "text/plain": [
       "HBox(children=(Button(description='Rispondi (Code)', style=ButtonStyle(), tooltip='Aggiungi una cella per scri…"
      ]
     },
     "metadata": {},
     "output_type": "display_data"
    }
   ],
   "source": [
    "loader_main()\n"
   ]
  },
  {
   "cell_type": "markdown",
   "metadata": {
    "deletable": false,
    "editable": false
   },
   "source": [
    "__Richiesta 5 \\[10 punti\\]__: Quanto si sarebbe disposti a pagare per ogni unità di incremento per l'availability nei tre vincoli per piccole variazioni?"
   ]
  },
  {
   "cell_type": "code",
   "execution_count": 22,
   "metadata": {
    "deletable": false,
    "editable": false
   },
   "outputs": [
    {
     "data": {
      "application/vnd.jupyter.widget-view+json": {
       "model_id": "9f47bcd64e3f416fb903d974d8c36d30",
       "version_major": 2,
       "version_minor": 0
      },
      "text/plain": [
       "HBox(children=(Button(description='Rispondi (Code)', style=ButtonStyle(), tooltip='Aggiungi una cella per scri…"
      ]
     },
     "metadata": {},
     "output_type": "display_data"
    }
   ],
   "source": [
    "loader_main()\n"
   ]
  },
  {
   "cell_type": "markdown",
   "metadata": {
    "deletable": false,
    "editable": false
   },
   "source": [
    "__Richiesta 6 \\[20 punti\\]__: Fino a dove si sarebbe disposti a pagare tali prezzi ombra?"
   ]
  },
  {
   "cell_type": "code",
   "execution_count": 23,
   "metadata": {
    "deletable": false,
    "editable": false
   },
   "outputs": [
    {
     "data": {
      "application/vnd.jupyter.widget-view+json": {
       "model_id": "e30b81679abe4720b4cd6791d6a23ea7",
       "version_major": 2,
       "version_minor": 0
      },
      "text/plain": [
       "HBox(children=(Button(description='Rispondi (Code)', style=ButtonStyle(), tooltip='Aggiungi una cella per scri…"
      ]
     },
     "metadata": {},
     "output_type": "display_data"
    }
   ],
   "source": [
    "loader_main()\n"
   ]
  },
  {
   "cell_type": "markdown",
   "metadata": {
    "deletable": false,
    "editable": false
   },
   "source": [
    "### Documentazione sulla classe Tableau disponibile nella libreria del simplesso interattivo ###\n",
    "__Nota__: la libreria è già automaticamente caricata in questo foglio.\n",
    "\n",
    "__Metodi disponibili__:\n",
    "- t = Tableau(n, m, obj, prob\\_type, term\\_noto\\_obj): definisce un nuovo problema di programmazione lineare avente _n_ variabili e _m_ vincoli; _obj_ sono i coefficienti delle variabili nella funzione obiettivo; _prob\\_type_ può essere 'max' o 'min'; _term\\_noto\\_obj_ è un parametro opzionale casomai nella funzione obiettivo ci sia un valore costante da aggiungere; il tableau è di tipo completo (i.e., mostra nelle colonne tutte le variabili, comprese le slack);\n",
    "- t.aggiungi\\_vincolo(expression, value): aggiunge un vincolo di disuguaglianza '<=' con coefficienti delle variabili i valori contenuti in _expression_ e termine noto _value_ ;\n",
    "- t.is\\_optimal(): restituisce True o False;\n",
    "- t.is\\_feasible(): restituisce True o False;\n",
    "- t.mostra\\_tableau(): stampa il tableau corrente;\n",
    "- t.crea\\_primo\\_tableau(): una volta definito il problema e inseriti i vincoli, crea il primo tableau e la prima soluzione di base;\n",
    "- t.step\\_primale(): esegue un passo del simplesso primale sul tableau t;\n",
    "- t.step\\_duale(): esegue un passo del simplesso duale sul tableau t;\n",
    "- t.pivot\\_colonna\\_riga(c,r): esegue un'operazione di pivot facendo entrare in base la variabile della colonna _c_ e facendo uscire la variabile della riga _r_ ;\n",
    "- t.stampa\\_soluzione\\_base\\_corrente();\n",
    "- t.prossimo\\_step(): sulla base della soluzione di base corrente, ritorna informazioni sulla feasibility e l'ottimalità e suggerisce il passo successivo da fare per la risoluzione del problema.\n"
   ]
  },
  {
   "cell_type": "code",
   "execution_count": 24,
   "metadata": {
    "deletable": false,
    "editable": false
   },
   "outputs": [],
   "source": [
    "#!/usr/bin/env python2\n",
    "# -*- coding: utf-8 -*-\n",
    "\"\"\"\n",
    "Created on Sun May 3 17:34:36 2020\n",
    "\n",
    "@author: Alice Raffaele\n",
    "\"\"\"\n",
    "\n",
    "from __future__ import division\n",
    "from fractions import Fraction\n",
    "from numpy import *\n",
    "\n",
    "class Tableau:\n",
    "\n",
    "    def __init__(self, n, m, obj, prob_type, term_noto_obj = 0):\n",
    "        self.n = n\n",
    "        self.m = m\n",
    "        self.rows = []\n",
    "        self.cons = []\n",
    "        self.basis = []\n",
    "        self.prob_type = prob_type\n",
    "        if self.prob_type == 'max':\n",
    "            self.obj = [Fraction(1)] + [Fraction(x) for x in obj]\n",
    "            self.term_noto_obj = Fraction(term_noto_obj)\n",
    "        elif self.prob_type == 'min':\n",
    "            self.obj = [Fraction(1)] + [-Fraction(x) for x in obj]\n",
    "            self.term_noto_obj = Fraction(-term_noto_obj)\n",
    "\n",
    "    def aggiungi_vincolo(self, expression, value):\n",
    "        self.rows.append([Fraction(0)] + [Fraction(x) for x in expression])\n",
    "        self.cons.append(Fraction(value))\n",
    "\n",
    "\n",
    "    def is_optimal(self):\n",
    "        if max(self.obj[1:-1]) <= 0:\n",
    "            #print('La soluzione di base associata è ottima.')\n",
    "            return True\n",
    "        #print('La soluzione di base associata NON è ottima.')\n",
    "        return False\n",
    "\n",
    "    def is_feasible(self):\n",
    "        rhs = [self.rows[i][-1] for i in range(len(self.rows))]\n",
    "        if min(rhs) < 0:\n",
    "            #print('La soluzione di base associata NON è ammissibile per il primale.')\n",
    "            return False\n",
    "        #print('La soluzione di base associata è ammissibile per il primale.')\n",
    "        return True\n",
    "\n",
    "    def _colonna_di_max_guadagno(self):\n",
    "    # restituisce una colonna di pivot utile ad incrementare la funzione obiettivo (come nel simplesso primale)\n",
    "        low = 0\n",
    "        idx = 0\n",
    "        for i in range(1, len(self.obj)-1):\n",
    "            if self.obj[i] > low:\n",
    "                low = self.obj[i]\n",
    "                idx = i\n",
    "        if idx == 0: return -1\n",
    "        return idx\n",
    "\n",
    "    def _riga_max_inammissibile(self):\n",
    "    # restituisce una riga di pivot utile a ridurre l'inammissibilità (come nel simplesso duale)\n",
    "        rhs = [self.rows[i][-1] for i in range(len(self.rows))]\n",
    "        low = 0\n",
    "        idx = -1\n",
    "        for i in range(len(rhs)):\n",
    "            if rhs[i] < low:\n",
    "                low = rhs[i]\n",
    "                idx = i\n",
    "        return idx\n",
    "\n",
    "    def _riga_bloccante(self, col):\n",
    "    # restituisce una riga di pivot per una data colonna di pivot (come nel simplesso primale)\n",
    "        rhs = [self.rows[i][-1] for i in range(len(self.rows))]\n",
    "        lhs = [self.rows[i][col] for i in range(len(self.rows))]\n",
    "        ratio = []\n",
    "        for i in range(len(rhs)):\n",
    "            if lhs[i] <= 0:\n",
    "                ratio.append(Fraction(99999999 * abs(max(rhs))))\n",
    "                continue\n",
    "            ratio.append(Fraction(rhs[i],lhs[i]))\n",
    "        return argmin(ratio)\n",
    "\n",
    "    def _colonna_bloccante(self, riga):\n",
    "    # restituisce una colonna di pivot per una data riga di pivot (come nel simplesso duale)\n",
    "        rhs = [self.rows[i][-1] for i in range(len(self.rows))]\n",
    "        ratio = []\n",
    "        for j in range(0, len(self.obj)-1):\n",
    "            if self.rows[riga][j] >= 0:\n",
    "                ratio.append(Fraction(-99999999 * abs(max(rhs))))\n",
    "                continue\n",
    "            ratio.append(Fraction(self.obj[j], self.rows[riga][j]))\n",
    "        if max(ratio) < 0:\n",
    "            return -1\n",
    "        return argmax(ratio)\n",
    "\n",
    "    def mostra_tableau(self):\n",
    "        s = 'xB'\n",
    "        # Header\n",
    "        for i in range(len(self.rows[0])-2):\n",
    "            s += '\\tx' + str(int(i+1))\n",
    "        s += '\\tb'\n",
    "        # Parte interna Tableau\n",
    "        for i in range(len(self.rows)):\n",
    "            s += '\\nx'+str(int(self.basis[i]))\n",
    "            for j in range(1,len(self.rows[i])):\n",
    "                s += '\\t' + str(self.rows[i][j])\n",
    "        # Coefficienti di costo ridotto e funzione obiettivo\n",
    "        s += '\\nc.c.r.'\n",
    "        for i in range(1,len(self.obj)-1):\n",
    "            s += '\\t' + str(self.obj[i])\n",
    "        if self.prob_type == 'max':\n",
    "            s += '\\t' + str(self.obj[-1]-self.term_noto_obj)\n",
    "        elif self.prob_type == 'min':\n",
    "            s += '\\t' + str(self.obj[-1]+self.term_noto_obj)\n",
    "        print(s)\n",
    "        self.stampa_soluzione_base_corrente()\n",
    "\n",
    "    def crea_primo_tableau(self):\n",
    "        # Compilo il tableau\n",
    "        for i in range(len(self.rows)):\n",
    "            self.obj += [0]\n",
    "            ident = [0 for r in range(len(self.rows))]\n",
    "            ident[i] = Fraction(1)\n",
    "            self.rows[i] += ident + [self.cons[i]]\n",
    "            self.rows[i] = array(self.rows[i])\n",
    "        self.obj = array(self.obj + [0])\n",
    "\n",
    "        # Setto le slack come variabili di base\n",
    "        if self.n >= self.m:\n",
    "            for i in range(1,self.m+1):\n",
    "                self.basis += [self.n+i]\n",
    "        else: # self.n < self.m:\n",
    "            for i in range(0,self.m):\n",
    "                self.basis += [self.n+i+1]\n",
    "            #print(self.basis)\n",
    "\n",
    "    def _pivot(self, row, col):\n",
    "        #print('row = ' + str(row))\n",
    "        #print('col = ' + str(col))\n",
    "        e = self.rows[row][col]\n",
    "        print('Elemento pivot a[' + str(row+1) + '][' + str(col) + '] = ' + str(e))\n",
    "        assert e != 0\n",
    "        self.rows[row] /= e\n",
    "        for r in range(len(self.rows)):\n",
    "            if r == row: continue\n",
    "            self.rows[r] = self.rows[r] - self.rows[r][col]*self.rows[row]\n",
    "        #print('prima: ' + str(self.obj))\n",
    "        self.obj = self.obj - self.obj[col]*self.rows[row]\n",
    "        #print('dopo: ' + str(self.obj))\n",
    "\n",
    "    def pivot_colonna_riga(self, c, r):\n",
    "        self._pivot(r-1,c)\n",
    "        print('Variabile entrante: x' + str(c))\n",
    "        print('Variabile uscente: x' + str(self.basis[r-1]))\n",
    "        self.basis[r-1] = c\n",
    "\n",
    "    def step_primale(self):\n",
    "        c = self._colonna_di_max_guadagno()\n",
    "        r = self._riga_bloccante(c)\n",
    "        self._pivot(r,c)\n",
    "        print('Variabile entrante: x' + str(c))\n",
    "        print('Variabile uscente: x' + str(self.basis[r]))\n",
    "        self.basis[r] = c\n",
    "\n",
    "    def step_duale(self):\n",
    "        print('Iterazione con il simplesso duale')\n",
    "        r = self._riga_max_inammissibile()\n",
    "        if r == -1:\n",
    "            print('Attenzione: nessun termine noto è negativo -> Puoi continuare con il simplesso primale')\n",
    "            return\n",
    "        c = self._colonna_bloccante(r)\n",
    "        if c == -1:\n",
    "            print('Il duale è illimitato -> Il primale è impossibile -> Fine')\n",
    "            return\n",
    "        self._pivot(r,c)\n",
    "        print('Variabile entrante: x' + str(c))\n",
    "        print('Variabile uscente: x' + str(self.basis[r]))\n",
    "        self.basis[r] = c\n",
    "\n",
    "    def stampa_soluzione_base_corrente(self):\n",
    "        sol = [0 for x in range(len(self.rows[0])-2)]\n",
    "        for i in range(len(self.basis)):\n",
    "            sol[self.basis[i]-1] = self.rows[i][-1]\n",
    "        s = 'Soluzione di base = ('\n",
    "        for i in range(len(sol)):\n",
    "            if i != len(sol)-1:\n",
    "                s += str(sol[i]) + ', '\n",
    "            else:\n",
    "                s += str(sol[i]) + ')'\n",
    "        print(s)\n",
    "        if self.prob_type == 'max':\n",
    "            print('Funzione obiettivo = ' + str(-(self.obj[-1])+self.term_noto_obj))\n",
    "        elif self.prob_type == 'min':\n",
    "            print('Funzione obiettivo = ' + str((self.obj[-1])+self.term_noto_obj))\n",
    "\n",
    "\n",
    "    def prossimo_step(self):\n",
    "        self.stampa_soluzione_base_corrente()\n",
    "        if self.is_feasible():\n",
    "            if self.is_optimal():\n",
    "                print(\"Tale soluzione è ammissibile e ottima -> Fine\")\n",
    "            else:\n",
    "                print(\"Tale soluzione è ammissibile ma NON è ottima -> Continua con il simplesso primale\")\n",
    "        else:\n",
    "            if self.is_optimal():\n",
    "                print(\"Tale soluzione NON è ammissibile ma soddisfa le condizioni di ottimalità -> Continua con il simplesso duale\")\n",
    "            else:\n",
    "                print(\"Tale soluzione NON è né ammissibile né ottima\")\n"
   ]
  }
 ],
 "metadata": {
  "kernelspec": {
   "display_name": "Python 3",
   "language": "python",
   "name": "python3"
  },
  "language_info": {
   "codemirror_mode": {
    "name": "ipython",
    "version": 3
   },
   "file_extension": ".py",
   "mimetype": "text/x-python",
   "name": "python",
   "nbconvert_exporter": "python",
   "pygments_lexer": "ipython3",
   "version": "3.7.6"
  }
 },
 "nbformat": 4,
 "nbformat_minor": 4
}
