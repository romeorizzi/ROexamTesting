{
 "cells": [
  {
   "cell_type": "code",
   "execution_count": 21,
   "metadata": {},
   "outputs": [
    {
     "name": "stdout",
     "output_type": "stream",
     "text": [
      "Tutti i packages necessari sono installati e funzionanti sul tuo computer.\n"
     ]
    }
   ],
   "source": [
    "import copy\n",
    "from datetime import datetime\n",
    "import fnmatch\n",
    "import hashlib\n",
    "from IPython.core.display import display, HTML, Markdown, display_html, clear_output, Javascript\n",
    "import ipysheet\n",
    "from ipywidgets import Button, HBox, VBox, widgets, Layout\n",
    "import json\n",
    "import glob\n",
    "import math\n",
    "import networkx as nx\n",
    "import nbformat\n",
    "import numpy\n",
    "import os\n",
    "from os import path\n",
    "import pandas as pd\n",
    "import pulp as p\n",
    "import random\n",
    "import re\n",
    "from string import Template\n",
    "import simplesso_interattivo as s\n",
    "import sys\n",
    "import tabulate\n",
    "import time\n",
    "import yaml\n",
    "import xml.etree.ElementTree as ET\n",
    "\n",
    "print(\"Tutti i packages necessari sono installati e funzionanti sul tuo computer.\")"
   ]
  }
 ],
 "metadata": {
  "kernelspec": {
   "display_name": "Python 3",
   "language": "python",
   "name": "python3"
  },
  "language_info": {
   "codemirror_mode": {
    "name": "ipython",
    "version": 3
   },
   "file_extension": ".py",
   "mimetype": "text/x-python",
   "name": "python",
   "nbconvert_exporter": "python",
   "pygments_lexer": "ipython3",
   "version": "3.7.5"
  }
 },
 "nbformat": 4,
 "nbformat_minor": 4
}
